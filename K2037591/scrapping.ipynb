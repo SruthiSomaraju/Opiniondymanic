{
 "cells": [
  {
   "cell_type": "code",
   "execution_count": 6,
   "metadata": {
    "colab": {
     "base_uri": "https://localhost:8080/",
     "height": 405
    },
    "id": "ArwIThQ1X-MT",
    "outputId": "72be3fb4-8bce-4fb6-9f84-8ae8689e99ba"
   },
   "outputs": [
    {
     "name": "stderr",
     "output_type": "stream",
     "text": [
      "Unexpected parameter: since\n"
     ]
    },
    {
     "name": "stdout",
     "output_type": "stream",
     "text": [
      "Enter Twitter HashTag to search for\n",
      "Enter Date since The Tweets are required in yyyy-mm--dd\n"
     ]
    },
    {
     "name": "stderr",
     "output_type": "stream",
     "text": [
      "Unexpected parameter: since\n"
     ]
    },
    {
     "name": "stdout",
     "output_type": "stream",
     "text": [
      "\n",
      "Tweet 1:\n",
      "Username:hetpatel04\n",
      "Description:सौगंध मुझे इस मिट्टी की में देश नहीें मिटने दूंगा , में देश नहीें झुकने दूंगा ।\n",
      "Answer every propaganda against India\n",
      "Location:Valsad,Gujarat,India\n",
      "Following Count:319\n",
      "Follower Count:176\n",
      "Total Tweets:945\n",
      "Retweet Count:66\n",
      "Tweet Text:Ahead of budget session, over 400 Parliament staff test positive for COVID-19\n",
      "\n",
      "Read @ANI Story | https://t.co/uCOmqLkmv7\n",
      "#Parliament #COVID19 https://t.co/Y4ECxNT3TV\n",
      "Hashtags Used:[]\n",
      "Scraping has completed for  covid19\n"
     ]
    },
    {
     "name": "stderr",
     "output_type": "stream",
     "text": [
      "Unexpected parameter: since\n"
     ]
    },
    {
     "name": "stdout",
     "output_type": "stream",
     "text": [
      "\n",
      "Tweet 1:\n",
      "Username:BrendaSchlossb1\n",
      "Description:\n",
      "Location:\n",
      "Following Count:868\n",
      "Follower Count:470\n",
      "Total Tweets:65070\n",
      "Retweet Count:2\n",
      "Tweet Text:He is on Italian television saying that the vaccines don’t work and Covid-19 is a biological warfare and at the end is pushing republican propaganda.. what really happened to the 22 million vaccines that went missing under Trump?\n",
      "Hashtags Used:[]\n",
      "Scraping has completed for  covid-19\n"
     ]
    },
    {
     "name": "stderr",
     "output_type": "stream",
     "text": [
      "Unexpected parameter: since\n"
     ]
    },
    {
     "name": "stdout",
     "output_type": "stream",
     "text": [
      "\n",
      "Tweet 1:\n",
      "Username:thenewscapital\n",
      "Description:The One Stop News Destination! Latest news from across the world.\n",
      "Location:\n",
      "Following Count:42\n",
      "Follower Count:110\n",
      "Total Tweets:1713\n",
      "Retweet Count:0\n",
      "Tweet Text:'Deltacron' COVID-19 infections combining Delta &amp; Omicron found in Cyprus\n",
      "\n",
      "#NewsCapital #CoronaVirus #CoronaVirusIndia #Covid19 #Covid19India #Omicron #OmicronVariant #CoronaOutbreak #CoronaVirusPandemic #India #Deltacron #Delta #DeltaVariant #DeltacronVariant #Cyprus https://t.co/BUBAipJsGj\n",
      "Hashtags Used:['NewsCapital', 'CoronaVirus', 'CoronaVirusIndia', 'Covid19', 'Covid19India', 'Omicron', 'OmicronVariant', 'CoronaOutbreak', 'CoronaVirusPandemic', 'India', 'Deltacron', 'Delta', 'DeltaVariant', 'DeltacronVariant', 'Cyprus']\n",
      "Scraping has completed for  coronaoutbreak\n"
     ]
    },
    {
     "name": "stderr",
     "output_type": "stream",
     "text": [
      "Unexpected parameter: since\n"
     ]
    },
    {
     "name": "stdout",
     "output_type": "stream",
     "text": [
      "\n",
      "Tweet 1:\n",
      "Username:ClaraLuzzzz\n",
      "Description:Old school liberal. Legal immigrant. I didn't leave the left, the left left me. We are the rebel alliance 💫 #freedom\n",
      "Location:New Jersey, USA\n",
      "Following Count:826\n",
      "Follower Count:1118\n",
      "Total Tweets:18727\n",
      "Retweet Count:0\n",
      "Tweet Text:@MeandMarley10 @Joe72ShipBottom @fauxmodoe At this point it seems that the boosted are the most vulnerable to getting sick. As predicted by past coronavirus vaccines developed.\n",
      "Hashtags Used:[]\n",
      "Scraping has completed for  coronavirus\n"
     ]
    },
    {
     "name": "stderr",
     "output_type": "stream",
     "text": [
      "Unexpected parameter: since\n"
     ]
    },
    {
     "name": "stdout",
     "output_type": "stream",
     "text": [
      "\n",
      "Tweet 1:\n",
      "Username:SARS_CoV2020\n",
      "Description:#Satire/#Parody Welcome to one of many in the family of #SARSCoVClub accounts! Scroll down for all kinds of #educational and comical content!\n",
      "#HappyNewYear!\n",
      "Location:EVERYONE, EVERYWHERE\n",
      "Following Count:3162\n",
      "Follower Count:1161\n",
      "Total Tweets:13282\n",
      "Retweet Count:1\n",
      "Tweet Text:449 new cases and 19 new deaths in Namibia \n",
      "\n",
      "[13:31 GMT] #coronavirus #CoronaVirusUpdate #COVID19 #CoronavirusPandemic\n",
      "Hashtags Used:['coronavirus', 'CoronaVirusUpdate', 'COVID19', 'CoronavirusPandemic']\n",
      "Scraping has completed for  coronaviruspandemic\n"
     ]
    },
    {
     "name": "stderr",
     "output_type": "stream",
     "text": [
      "Unexpected parameter: since\n"
     ]
    },
    {
     "name": "stdout",
     "output_type": "stream",
     "text": [
      "\n",
      "Tweet 1:\n",
      "Username:raj_up\n",
      "Description:Hindu! RT, not an endorsement. All those simple thoughts...All those peaceful dreams! I wonder if you wonder!!\n",
      "Location:India\n",
      "Following Count:3309\n",
      "Follower Count:362\n",
      "Total Tweets:25511\n",
      "Retweet Count:0\n",
      "Tweet Text:@globaltimesnews Hope you did not send the #WuhanVirus in the instrument! Before humanity could set foot presence of the #CCPvirus is not desirable.\n",
      "Hashtags Used:['WuhanVirus', 'CCPvirus']\n",
      "Scraping has completed for  wuhanvirus\n"
     ]
    },
    {
     "name": "stderr",
     "output_type": "stream",
     "text": [
      "Unexpected parameter: since\n"
     ]
    },
    {
     "name": "stdout",
     "output_type": "stream",
     "text": [
      "\n",
      "Tweet 1:\n",
      "Username:PaulGarvey4\n",
      "Description:‘Talk for Teaching' 👍 Support by DM; I'll help. SEF writing/QA of your SEF. Ofsted help via ‘Taking Control 2’. #nobestwayoverall #teacher5oclockclub☕️\n",
      "Location:Penarth\n",
      "Following Count:73409\n",
      "Follower Count:89939\n",
      "Total Tweets:151374\n",
      "Retweet Count:0\n",
      "Tweet Text:@dannyteaching @rrunsworth @jonathan6671 @julie_trudgill @chrisdysonHT @simonkidwell @RaeSnape @MoreMorrow @MrBenParnell @Clairecuthbert9 @MrGPrimary We're 8th in the world for deaths. You are lying for purpose, just like your party's PM does daily.\n",
      "\n",
      "https://t.co/vbm0zpV6ZY\n",
      "\n",
      "I've reported that tweet as well for spamming. Now, stop this, unless you quote facts. &amp; to talk about accuracy about child deaths as awful stats is...☹️\n",
      "Hashtags Used:[]\n",
      "Scraping has completed for  2019nCoV\n"
     ]
    },
    {
     "name": "stderr",
     "output_type": "stream",
     "text": [
      "Unexpected parameter: since\n"
     ]
    },
    {
     "name": "stdout",
     "output_type": "stream",
     "text": [
      "\n",
      "Tweet 1:\n",
      "Username:mojola0luwa\n",
      "Description:Aspiring fit fam ||Freelance Writer || Health Educator|| Christian.\n",
      "Abeg tag: mojola0luwa\n",
      "Location:U.A.R\n",
      "Following Count:2560\n",
      "Follower Count:2543\n",
      "Total Tweets:59951\n",
      "Retweet Count:262\n",
      "Tweet Text:This school vaccination conversation is hilarious because I can remember being vaccinated two times in primary school during morning assembly. They didn't even ask our parents anything, when my mom came to pick me I showed her the site and she said okay.\n",
      "Hashtags Used:[]\n",
      "Scraping has completed for  vaccination\n"
     ]
    },
    {
     "name": "stderr",
     "output_type": "stream",
     "text": [
      "Unexpected parameter: since\n"
     ]
    },
    {
     "name": "stdout",
     "output_type": "stream",
     "text": [
      "\n",
      "Tweet 1:\n",
      "Username:KHALNAYAK1139\n",
      "Description:cricket, music, business, pharmacist,YAMAHA RX100 crazy, gadget lover\n",
      "Location:ichalkaranji,maharastra,india\n",
      "Following Count:204\n",
      "Follower Count:121\n",
      "Total Tweets:10854\n",
      "Retweet Count:0\n",
      "Tweet Text:No of #covid patients r increasing rapidly. But patients recovery from #covid is also fast.\n",
      "Take care but no need to panic as #media is showing.\n",
      "#maskup #sanitise #vacinate take care.\n",
      "#omicron\n",
      "Hashtags Used:['covid', 'covid', 'media', 'maskup', 'sanitise', 'vacinate', 'omicron']\n",
      "Scraping has completed for  vacinate\n"
     ]
    },
    {
     "name": "stderr",
     "output_type": "stream",
     "text": [
      "Unexpected parameter: since\n"
     ]
    },
    {
     "name": "stdout",
     "output_type": "stream",
     "text": [
      "\n",
      "Tweet 1:\n",
      "Username:LDeathridge\n",
      "Description:An Emergency Planning anorak who is a Brummie Bird earning her crust no longer in Shropshire but back in the West Midlands ;@)   my tweets, my thoughts\n",
      "Location:\n",
      "Following Count:621\n",
      "Follower Count:303\n",
      "Total Tweets:8870\n",
      "Retweet Count:2\n",
      "Tweet Text:If you haven’t yet had your vaccine, now is the time. Over 5000 people in Walsall had Covid last week. \n",
      "\n",
      "Nobody will question why you haven’t had it yet – it’s just vital to get it done.\n",
      "\n",
      "Visit the Saddlers Centre from 8am to 7pm to get your jab. https://t.co/mGWwZfzjb8\n",
      "Hashtags Used:[]\n",
      "Scraping has completed for  vaccine\n",
      "\n",
      "Tweet 1:\n",
      "Username:KHALNAYAK1139\n",
      "Description:cricket, music, business, pharmacist,YAMAHA RX100 crazy, gadget lover\n",
      "Location:ichalkaranji,maharastra,india\n",
      "Following Count:204\n",
      "Follower Count:121\n",
      "Total Tweets:10854\n",
      "Retweet Count:0\n",
      "Tweet Text:No of #covid patients r increasing rapidly. But patients recovery from #covid is also fast.\n",
      "Take care but no need to panic as #media is showing.\n",
      "#maskup #sanitise #vacinate take care.\n",
      "#omicron\n",
      "Hashtags Used:['covid', 'covid', 'media', 'maskup', 'sanitise', 'vacinate', 'omicron']\n",
      "Scraping has completed for  vacinate\n"
     ]
    }
   ],
   "source": [
    "# Python Script to Extract tweets of a\n",
    "# particular Hashtag using Tweepy and Pandas\n",
    "\n",
    "\n",
    "# import modules\n",
    "import pandas as pd\n",
    "import tweepy\n",
    "\n",
    "\n",
    "# function to display data of each tweet\n",
    "def printtweetdata(n, ith_tweet):\n",
    "\tprint()\n",
    "\tprint(f\"Tweet {n}:\")\n",
    "\tprint(f\"Username:{ith_tweet[0]}\")\n",
    "\tprint(f\"Description:{ith_tweet[1]}\")\n",
    "\tprint(f\"Location:{ith_tweet[2]}\")\n",
    "\tprint(f\"Following Count:{ith_tweet[3]}\")\n",
    "\tprint(f\"Follower Count:{ith_tweet[4]}\")\n",
    "\tprint(f\"Total Tweets:{ith_tweet[5]}\")\n",
    "\tprint(f\"Retweet Count:{ith_tweet[6]}\")\n",
    "\tprint(f\"Tweet Text:{ith_tweet[7]}\")\n",
    "\tprint(f\"Hashtags Used:{ith_tweet[8]}\")\n",
    "\n",
    "\n",
    "# function to perform data extraction\n",
    "def scrape(words, date_since, numtweet, filename):\n",
    "\t\n",
    "\t# Creating DataFrame using pandas\n",
    "\tdb = pd.DataFrame(columns=['username', 'description', 'location', 'following',\n",
    "\t\t\t\t\t\t\t'followers', 'totaltweets', 'retweetcount', 'text', 'hashtags'])\n",
    "\t\n",
    "\t# We are using .Cursor() to search through twitter for the required tweets.\n",
    "\t# The number of tweets can be restricted using .items(number of tweets)\n",
    "\ttweets = tweepy.Cursor(api.search_tweets, q=words, lang=\"en\",\n",
    "\t\t\t\t\t\tsince=date_since, tweet_mode='extended').items(numtweet)\n",
    "\t\n",
    "\t# .Cursor() returns an iterable object. Each item in\n",
    "\t# the iterator has various attributes that you can access to\n",
    "\t# get information about each tweet\n",
    "\tlist_tweets = [tweet for tweet in tweets]\n",
    "\t\n",
    "\t# Counter to maintain Tweet Count\n",
    "\ti = 1\n",
    "\t\n",
    "\t# we will iterate over each tweet in the list for extracting information about each tweet\n",
    "\tfor tweet in list_tweets:\n",
    "\t\tusername = tweet.user.screen_name\n",
    "\t\tdescription = tweet.user.description\n",
    "\t\tlocation = tweet.user.location\n",
    "\t\tfollowing = tweet.user.friends_count\n",
    "\t\tfollowers = tweet.user.followers_count\n",
    "\t\ttotaltweets = tweet.user.statuses_count\n",
    "\t\tretweetcount = tweet.retweet_count\n",
    "\t\thashtags = tweet.entities['hashtags']\n",
    "\t\t\n",
    "\t\t# Retweets can be distinguished by a retweeted_status attribute,\n",
    "\t\t# in case it is an invalid reference, except block will be executed\n",
    "\t\ttry:\n",
    "\t\t\ttext = tweet.retweeted_status.full_text\n",
    "\t\texcept AttributeError:\n",
    "\t\t\ttext = tweet.full_text\n",
    "\t\thashtext = list()\n",
    "\t\tfor j in range(0, len(hashtags)):\n",
    "\t\t\thashtext.append(hashtags[j]['text'])\n",
    "\t\t\n",
    "\t\t# Here we are appending all the extracted information in the DataFrame\n",
    "\t\tith_tweet = [username, description, location, following,\n",
    "\t\t\t\t\tfollowers, totaltweets, retweetcount, text, hashtext]\n",
    "\t\tdb.loc[len(db)] = ith_tweet\n",
    "\t\t\n",
    "\t\t# Function call to print tweet data on screen\n",
    "\t\tprinttweetdata(i, ith_tweet)\n",
    "\t\ti = i+1\n",
    "\tpath = './'+filename\n",
    "\t\n",
    "\t# we will save our database as a CSV file.\n",
    "\tdb.to_csv('./data.csv')\n",
    "\n",
    "\n",
    "if __name__ == '__main__':\n",
    "\t\n",
    "  # Enter your own credentials obtained\n",
    "  # from your developer account\n",
    "  consumer_key=\"ArvY8sU6HDZSuGk9nMADCd1Za\"\n",
    "  consumer_secret=\"WhhxixavlxGgAsr6nHwwjmsEDdNCBGCC2LxHJWLl0Tho5OcTKe\"\n",
    "  access_token=\"2415738176-GCKuN5W25sftYfjOMXMgA1UXaS6kHkl8gYnMWGm\"\n",
    "  access_token_secret=\"GBzgC4NrDA4XhCf7CS6md1zQuNmm0o458rhJSqfz3PFki\"\n",
    "\n",
    "  auth = tweepy.OAuthHandler(consumer_key,consumer_secret)\n",
    "  auth.set_access_token(access_token,access_token_secret)\n",
    "  api = tweepy.API(auth, wait_on_rate_limit=True)\n",
    "\n",
    "  # Enter Hashtag and initial date\n",
    "  print(\"Enter Twitter HashTag to search for\")\n",
    "  words =  ['covid19','covid-19','coronaoutbreak','coronavirus','coronaviruspandemic','wuhanvirus','2019nCoV','vaccination','vacinate','vaccine','vacinate']\n",
    "  print(\"Enter Date since The Tweets are required in yyyy-mm--dd\")\n",
    "  date_since = \"2019-12-30\"\n",
    "  for word in words:\n",
    "    # number of tweets you want to extract in one run\n",
    "    numtweet = 1\n",
    "    filename = word+'.csv'\n",
    "    scrape(word, date_since, numtweet, filename)\n",
    "    print('Scraping has completed for ',word)\n"
   ]
  },
  {
   "cell_type": "code",
   "execution_count": null,
   "metadata": {
    "id": "BW6lEFIVeZsn"
   },
   "outputs": [],
   "source": [
    "def get_sentiment(text):\n",
    "    blob = TextBlob(text)\n",
    "    sentiment_polarity = blob.sentiment.polarity\n",
    "    sentiment_subjectivity = blob.sentiment.subjectivity\n",
    "    if sentiment_polarity > 0:\n",
    "        sentiment_label = 1\n",
    "    elif sentiment_polarity < 0:\n",
    "        sentiment_label = -1\n",
    "    else:\n",
    "        sentiment_label = 0\n",
    "    result = {'polarity':sentiment_polarity,\n",
    "              'subjectivity':sentiment_subjectivity,\n",
    "              'sentiment':sentiment_label}\n",
    "    return result\n",
    "\n",
    "sent = get_sentiment()"
   ]
  },
  {
   "cell_type": "code",
   "execution_count": null,
   "metadata": {
    "id": "sAOuFxZQZ721"
   },
   "outputs": [],
   "source": []
  },
  {
   "cell_type": "code",
   "execution_count": null,
   "metadata": {
    "id": "x1z_P55VaEgo"
   },
   "outputs": [],
   "source": []
  }
 ],
 "metadata": {
  "colab": {
   "collapsed_sections": [],
   "name": "scrapping.ipynb",
   "provenance": []
  },
  "kernelspec": {
   "display_name": "Python 3",
   "language": "python",
   "name": "python3"
  },
  "language_info": {
   "codemirror_mode": {
    "name": "ipython",
    "version": 3
   },
   "file_extension": ".py",
   "mimetype": "text/x-python",
   "name": "python",
   "nbconvert_exporter": "python",
   "pygments_lexer": "ipython3",
   "version": "3.6.13"
  }
 },
 "nbformat": 4,
 "nbformat_minor": 1
}
