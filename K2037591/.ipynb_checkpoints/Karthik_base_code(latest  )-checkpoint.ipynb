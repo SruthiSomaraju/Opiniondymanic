{
 "cells": [
  {
   "cell_type": "markdown",
   "id": "8c6aa700",
   "metadata": {
    "id": "8c6aa700"
   },
   "source": [
    "# **Sentiment Analysis of Tweets**"
   ]
  },
  {
   "cell_type": "code",
   "execution_count": 1,
   "id": "8f77c116",
   "metadata": {
    "colab": {
     "base_uri": "https://localhost:8080/",
     "height": 1000
    },
    "executionInfo": {
     "elapsed": 53511,
     "status": "error",
     "timestamp": 1637825626632,
     "user": {
      "displayName": "Anmol Varshney",
      "photoUrl": "https://lh3.googleusercontent.com/a-/AOh14GhLN7y1dWXp68QLvuqkPW-a1m-zwia73dILsW-DGw=s64",
      "userId": "09973869633986508713"
     },
     "user_tz": -330
    },
    "id": "8f77c116",
    "outputId": "cdc0e976-902a-4dc1-fc3b-d2fad66d2e08"
   },
   "outputs": [
    {
     "name": "stdout",
     "output_type": "stream",
     "text": [
      "Requirement already satisfied: transformers in c:\\programdata\\anaconda3\\envs\\env\\lib\\site-packages (4.10.3)\n",
      "Requirement already satisfied: huggingface-hub>=0.0.12 in c:\\programdata\\anaconda3\\envs\\env\\lib\\site-packages (from transformers) (0.2.1)\n",
      "Requirement already satisfied: regex!=2019.12.17 in c:\\programdata\\anaconda3\\envs\\env\\lib\\site-packages (from transformers) (2021.8.3)\n",
      "Requirement already satisfied: importlib-metadata in c:\\programdata\\anaconda3\\envs\\env\\lib\\site-packages (from transformers) (4.8.2)\n",
      "Requirement already satisfied: packaging in c:\\programdata\\anaconda3\\envs\\env\\lib\\site-packages (from transformers) (21.3)\n",
      "Requirement already satisfied: tokenizers<0.11,>=0.10.1 in c:\\programdata\\anaconda3\\envs\\env\\lib\\site-packages (from transformers) (0.10.3)\n",
      "Requirement already satisfied: tqdm>=4.27 in c:\\programdata\\anaconda3\\envs\\env\\lib\\site-packages (from transformers) (4.62.3)\n",
      "Requirement already satisfied: requests in c:\\programdata\\anaconda3\\envs\\env\\lib\\site-packages (from transformers) (2.26.0)\n",
      "Requirement already satisfied: pyyaml>=5.1 in c:\\programdata\\anaconda3\\envs\\env\\lib\\site-packages (from transformers) (6.0)\n",
      "Requirement already satisfied: filelock in c:\\programdata\\anaconda3\\envs\\env\\lib\\site-packages (from transformers) (3.4.2)\n",
      "Requirement already satisfied: sacremoses in c:\\programdata\\anaconda3\\envs\\env\\lib\\site-packages (from transformers) (0.0.46)\n",
      "Requirement already satisfied: numpy>=1.17 in c:\\programdata\\anaconda3\\envs\\env\\lib\\site-packages (from transformers) (1.18.5)\n",
      "Requirement already satisfied: typing-extensions>=3.7.4.3 in c:\\programdata\\anaconda3\\envs\\env\\lib\\site-packages (from huggingface-hub>=0.0.12->transformers) (3.10.0.2)\n",
      "Requirement already satisfied: pyparsing!=3.0.5,>=2.0.2 in c:\\programdata\\anaconda3\\envs\\env\\lib\\site-packages (from packaging->transformers) (3.0.4)\n",
      "Requirement already satisfied: colorama in c:\\programdata\\anaconda3\\envs\\env\\lib\\site-packages (from tqdm>=4.27->transformers) (0.4.4)\n",
      "Requirement already satisfied: zipp>=0.5 in c:\\programdata\\anaconda3\\envs\\env\\lib\\site-packages (from importlib-metadata->transformers) (3.6.0)\n",
      "Requirement already satisfied: certifi>=2017.4.17 in c:\\programdata\\anaconda3\\envs\\env\\lib\\site-packages (from requests->transformers) (2021.10.8)\n",
      "Requirement already satisfied: idna<4,>=2.5 in c:\\programdata\\anaconda3\\envs\\env\\lib\\site-packages (from requests->transformers) (3.3)\n",
      "Requirement already satisfied: urllib3<1.27,>=1.21.1 in c:\\programdata\\anaconda3\\envs\\env\\lib\\site-packages (from requests->transformers) (1.26.7)\n",
      "Requirement already satisfied: charset-normalizer~=2.0.0 in c:\\programdata\\anaconda3\\envs\\env\\lib\\site-packages (from requests->transformers) (2.0.4)\n",
      "Requirement already satisfied: joblib in c:\\programdata\\anaconda3\\envs\\env\\lib\\site-packages (from sacremoses->transformers) (1.1.0)\n",
      "Requirement already satisfied: six in c:\\programdata\\anaconda3\\envs\\env\\lib\\site-packages (from sacremoses->transformers) (1.16.0)\n",
      "Requirement already satisfied: click in c:\\programdata\\anaconda3\\envs\\env\\lib\\site-packages (from sacremoses->transformers) (8.0.3)\n",
      "Requirement already satisfied: neattext in c:\\programdata\\anaconda3\\envs\\env\\lib\\site-packages (0.1.2)\n",
      "Requirement already satisfied: ktrain==0.23.2 in c:\\programdata\\anaconda3\\envs\\env\\lib\\site-packages (0.23.2)\n",
      "Requirement already satisfied: pandas>=1.0.1 in c:\\programdata\\anaconda3\\envs\\env\\lib\\site-packages (from ktrain==0.23.2) (1.3.5)\n",
      "Requirement already satisfied: requests in c:\\programdata\\anaconda3\\envs\\env\\lib\\site-packages (from ktrain==0.23.2) (2.26.0)\n",
      "Requirement already satisfied: transformers>=3.1.0 in c:\\programdata\\anaconda3\\envs\\env\\lib\\site-packages (from ktrain==0.23.2) (4.10.3)\n",
      "Requirement already satisfied: ipython in c:\\programdata\\anaconda3\\envs\\env\\lib\\site-packages (from ktrain==0.23.2) (7.29.0)\n",
      "Requirement already satisfied: matplotlib>=3.0.0 in c:\\programdata\\anaconda3\\envs\\env\\lib\\site-packages (from ktrain==0.23.2) (3.5.1)\n",
      "Requirement already satisfied: jieba in c:\\programdata\\anaconda3\\envs\\env\\lib\\site-packages (from ktrain==0.23.2) (0.42.1)\n",
      "Requirement already satisfied: cchardet in c:\\programdata\\anaconda3\\envs\\env\\lib\\site-packages (from ktrain==0.23.2) (2.1.7)\n",
      "Requirement already satisfied: packaging in c:\\programdata\\anaconda3\\envs\\env\\lib\\site-packages (from ktrain==0.23.2) (21.3)\n",
      "Requirement already satisfied: joblib in c:\\programdata\\anaconda3\\envs\\env\\lib\\site-packages (from ktrain==0.23.2) (1.1.0)\n",
      "Requirement already satisfied: scikit-learn>=0.21.3 in c:\\users\\administrator\\appdata\\roaming\\python\\python37\\site-packages (from ktrain==0.23.2) (0.23.2)\n",
      "Requirement already satisfied: bokeh in c:\\programdata\\anaconda3\\envs\\env\\lib\\site-packages (from ktrain==0.23.2) (2.4.2)\n",
      "Requirement already satisfied: whoosh in c:\\programdata\\anaconda3\\envs\\env\\lib\\site-packages (from ktrain==0.23.2) (2.7.4)\n",
      "Requirement already satisfied: seqeval==0.0.19 in c:\\programdata\\anaconda3\\envs\\env\\lib\\site-packages (from ktrain==0.23.2) (0.0.19)\n",
      "Requirement already satisfied: syntok in c:\\programdata\\anaconda3\\envs\\env\\lib\\site-packages (from ktrain==0.23.2) (1.3.2)\n",
      "Requirement already satisfied: keras-bert>=0.86.0 in c:\\programdata\\anaconda3\\envs\\env\\lib\\site-packages (from ktrain==0.23.2) (0.88.0)\n",
      "Requirement already satisfied: networkx>=2.3 in c:\\programdata\\anaconda3\\envs\\env\\lib\\site-packages (from ktrain==0.23.2) (2.6.3)\n",
      "Requirement already satisfied: fastprogress>=0.1.21 in c:\\programdata\\anaconda3\\envs\\env\\lib\\site-packages (from ktrain==0.23.2) (1.0.0)\n",
      "Requirement already satisfied: langdetect in c:\\programdata\\anaconda3\\envs\\env\\lib\\site-packages (from ktrain==0.23.2) (1.0.9)\n",
      "Requirement already satisfied: numpy>=1.14.0 in c:\\programdata\\anaconda3\\envs\\env\\lib\\site-packages (from seqeval==0.0.19->ktrain==0.23.2) (1.18.5)\n",
      "Requirement already satisfied: Keras>=2.2.4 in c:\\programdata\\anaconda3\\envs\\env\\lib\\site-packages (from seqeval==0.0.19->ktrain==0.23.2) (2.7.0)\n",
      "Requirement already satisfied: keras-transformer>=0.39.0 in c:\\programdata\\anaconda3\\envs\\env\\lib\\site-packages (from keras-bert>=0.86.0->ktrain==0.23.2) (0.39.0)\n",
      "Requirement already satisfied: keras-pos-embd>=0.12.0 in c:\\programdata\\anaconda3\\envs\\env\\lib\\site-packages (from keras-transformer>=0.39.0->keras-bert>=0.86.0->ktrain==0.23.2) (0.12.0)\n",
      "Requirement already satisfied: keras-layer-normalization>=0.15.0 in c:\\programdata\\anaconda3\\envs\\env\\lib\\site-packages (from keras-transformer>=0.39.0->keras-bert>=0.86.0->ktrain==0.23.2) (0.15.0)\n",
      "Requirement already satisfied: keras-multi-head>=0.28.0 in c:\\programdata\\anaconda3\\envs\\env\\lib\\site-packages (from keras-transformer>=0.39.0->keras-bert>=0.86.0->ktrain==0.23.2) (0.28.0)\n",
      "Requirement already satisfied: keras-embed-sim>=0.9.0 in c:\\programdata\\anaconda3\\envs\\env\\lib\\site-packages (from keras-transformer>=0.39.0->keras-bert>=0.86.0->ktrain==0.23.2) (0.9.0)\n",
      "Requirement already satisfied: keras-position-wise-feed-forward>=0.7.0 in c:\\programdata\\anaconda3\\envs\\env\\lib\\site-packages (from keras-transformer>=0.39.0->keras-bert>=0.86.0->ktrain==0.23.2) (0.7.0)\n",
      "Requirement already satisfied: keras-self-attention>=0.50.0 in c:\\programdata\\anaconda3\\envs\\env\\lib\\site-packages (from keras-multi-head>=0.28.0->keras-transformer>=0.39.0->keras-bert>=0.86.0->ktrain==0.23.2) (0.50.0)\n",
      "Requirement already satisfied: cycler>=0.10 in c:\\programdata\\anaconda3\\envs\\env\\lib\\site-packages (from matplotlib>=3.0.0->ktrain==0.23.2) (0.11.0)\n",
      "Requirement already satisfied: fonttools>=4.22.0 in c:\\programdata\\anaconda3\\envs\\env\\lib\\site-packages (from matplotlib>=3.0.0->ktrain==0.23.2) (4.28.5)\n",
      "Requirement already satisfied: pyparsing>=2.2.1 in c:\\programdata\\anaconda3\\envs\\env\\lib\\site-packages (from matplotlib>=3.0.0->ktrain==0.23.2) (3.0.4)\n",
      "Requirement already satisfied: kiwisolver>=1.0.1 in c:\\programdata\\anaconda3\\envs\\env\\lib\\site-packages (from matplotlib>=3.0.0->ktrain==0.23.2) (1.3.2)\n",
      "Requirement already satisfied: pillow>=6.2.0 in c:\\programdata\\anaconda3\\envs\\env\\lib\\site-packages (from matplotlib>=3.0.0->ktrain==0.23.2) (8.4.0)\n",
      "Requirement already satisfied: python-dateutil>=2.7 in c:\\programdata\\anaconda3\\envs\\env\\lib\\site-packages (from matplotlib>=3.0.0->ktrain==0.23.2) (2.8.2)\n",
      "Requirement already satisfied: pytz>=2017.3 in c:\\programdata\\anaconda3\\envs\\env\\lib\\site-packages (from pandas>=1.0.1->ktrain==0.23.2) (2021.3)\n",
      "Requirement already satisfied: six>=1.5 in c:\\programdata\\anaconda3\\envs\\env\\lib\\site-packages (from python-dateutil>=2.7->matplotlib>=3.0.0->ktrain==0.23.2) (1.16.0)\n",
      "Requirement already satisfied: scipy>=0.19.1 in c:\\programdata\\anaconda3\\envs\\env\\lib\\site-packages (from scikit-learn>=0.21.3->ktrain==0.23.2) (1.4.1)\n",
      "Requirement already satisfied: threadpoolctl>=2.0.0 in c:\\programdata\\anaconda3\\envs\\env\\lib\\site-packages (from scikit-learn>=0.21.3->ktrain==0.23.2) (3.0.0)\n",
      "Requirement already satisfied: regex!=2019.12.17 in c:\\programdata\\anaconda3\\envs\\env\\lib\\site-packages (from transformers>=3.1.0->ktrain==0.23.2) (2021.8.3)\n",
      "Requirement already satisfied: tqdm>=4.27 in c:\\programdata\\anaconda3\\envs\\env\\lib\\site-packages (from transformers>=3.1.0->ktrain==0.23.2) (4.62.3)\n",
      "Requirement already satisfied: filelock in c:\\programdata\\anaconda3\\envs\\env\\lib\\site-packages (from transformers>=3.1.0->ktrain==0.23.2) (3.4.2)\n",
      "Requirement already satisfied: pyyaml>=5.1 in c:\\programdata\\anaconda3\\envs\\env\\lib\\site-packages (from transformers>=3.1.0->ktrain==0.23.2) (6.0)\n",
      "Requirement already satisfied: sacremoses in c:\\programdata\\anaconda3\\envs\\env\\lib\\site-packages (from transformers>=3.1.0->ktrain==0.23.2) (0.0.46)\n",
      "Requirement already satisfied: tokenizers<0.11,>=0.10.1 in c:\\programdata\\anaconda3\\envs\\env\\lib\\site-packages (from transformers>=3.1.0->ktrain==0.23.2) (0.10.3)\n",
      "Requirement already satisfied: huggingface-hub>=0.0.12 in c:\\programdata\\anaconda3\\envs\\env\\lib\\site-packages (from transformers>=3.1.0->ktrain==0.23.2) (0.2.1)\n",
      "Requirement already satisfied: importlib-metadata in c:\\programdata\\anaconda3\\envs\\env\\lib\\site-packages (from transformers>=3.1.0->ktrain==0.23.2) (4.8.2)\n",
      "Requirement already satisfied: typing-extensions>=3.7.4.3 in c:\\programdata\\anaconda3\\envs\\env\\lib\\site-packages (from huggingface-hub>=0.0.12->transformers>=3.1.0->ktrain==0.23.2) (3.10.0.2)\n",
      "Requirement already satisfied: colorama in c:\\programdata\\anaconda3\\envs\\env\\lib\\site-packages (from tqdm>=4.27->transformers>=3.1.0->ktrain==0.23.2) (0.4.4)\n",
      "Requirement already satisfied: tornado>=5.1 in c:\\programdata\\anaconda3\\envs\\env\\lib\\site-packages (from bokeh->ktrain==0.23.2) (6.1)\n",
      "Requirement already satisfied: Jinja2>=2.9 in c:\\programdata\\anaconda3\\envs\\env\\lib\\site-packages (from bokeh->ktrain==0.23.2) (3.0.2)\n",
      "Requirement already satisfied: MarkupSafe>=2.0 in c:\\programdata\\anaconda3\\envs\\env\\lib\\site-packages (from Jinja2>=2.9->bokeh->ktrain==0.23.2) (2.0.1)\n",
      "Requirement already satisfied: zipp>=0.5 in c:\\programdata\\anaconda3\\envs\\env\\lib\\site-packages (from importlib-metadata->transformers>=3.1.0->ktrain==0.23.2) (3.6.0)\n",
      "Requirement already satisfied: decorator in c:\\programdata\\anaconda3\\envs\\env\\lib\\site-packages (from ipython->ktrain==0.23.2) (5.1.0)\n",
      "Requirement already satisfied: backcall in c:\\programdata\\anaconda3\\envs\\env\\lib\\site-packages (from ipython->ktrain==0.23.2) (0.2.0)\n",
      "Requirement already satisfied: setuptools>=18.5 in c:\\programdata\\anaconda3\\envs\\env\\lib\\site-packages (from ipython->ktrain==0.23.2) (58.0.4)\n",
      "Requirement already satisfied: matplotlib-inline in c:\\programdata\\anaconda3\\envs\\env\\lib\\site-packages (from ipython->ktrain==0.23.2) (0.1.2)\n",
      "Requirement already satisfied: prompt-toolkit!=3.0.0,!=3.0.1,<3.1.0,>=2.0.0 in c:\\programdata\\anaconda3\\envs\\env\\lib\\site-packages (from ipython->ktrain==0.23.2) (3.0.20)\n",
      "Requirement already satisfied: pickleshare in c:\\programdata\\anaconda3\\envs\\env\\lib\\site-packages (from ipython->ktrain==0.23.2) (0.7.5)\n",
      "Requirement already satisfied: pygments in c:\\programdata\\anaconda3\\envs\\env\\lib\\site-packages (from ipython->ktrain==0.23.2) (2.10.0)\n",
      "Requirement already satisfied: traitlets>=4.2 in c:\\programdata\\anaconda3\\envs\\env\\lib\\site-packages (from ipython->ktrain==0.23.2) (5.1.1)\n",
      "Requirement already satisfied: jedi>=0.16 in c:\\programdata\\anaconda3\\envs\\env\\lib\\site-packages (from ipython->ktrain==0.23.2) (0.18.0)\n",
      "Requirement already satisfied: parso<0.9.0,>=0.8.0 in c:\\programdata\\anaconda3\\envs\\env\\lib\\site-packages (from jedi>=0.16->ipython->ktrain==0.23.2) (0.8.2)\n",
      "Requirement already satisfied: wcwidth in c:\\programdata\\anaconda3\\envs\\env\\lib\\site-packages (from prompt-toolkit!=3.0.0,!=3.0.1,<3.1.0,>=2.0.0->ipython->ktrain==0.23.2) (0.2.5)\n",
      "Requirement already satisfied: urllib3<1.27,>=1.21.1 in c:\\programdata\\anaconda3\\envs\\env\\lib\\site-packages (from requests->ktrain==0.23.2) (1.26.7)\n",
      "Requirement already satisfied: charset-normalizer~=2.0.0 in c:\\programdata\\anaconda3\\envs\\env\\lib\\site-packages (from requests->ktrain==0.23.2) (2.0.4)\n",
      "Requirement already satisfied: certifi>=2017.4.17 in c:\\programdata\\anaconda3\\envs\\env\\lib\\site-packages (from requests->ktrain==0.23.2) (2021.10.8)\n",
      "Requirement already satisfied: idna<4,>=2.5 in c:\\programdata\\anaconda3\\envs\\env\\lib\\site-packages (from requests->ktrain==0.23.2) (3.3)\n",
      "Requirement already satisfied: click in c:\\programdata\\anaconda3\\envs\\env\\lib\\site-packages (from sacremoses->transformers>=3.1.0->ktrain==0.23.2) (8.0.3)\n"
     ]
    },
    {
     "name": "stdout",
     "output_type": "stream",
     "text": [
      "Requirement already satisfied: imblearn in c:\\programdata\\anaconda3\\envs\\env\\lib\\site-packages (0.0)\n",
      "Requirement already satisfied: imbalanced-learn in c:\\programdata\\anaconda3\\envs\\env\\lib\\site-packages (from imblearn) (0.8.1)\n",
      "Requirement already satisfied: scipy>=0.19.1 in c:\\programdata\\anaconda3\\envs\\env\\lib\\site-packages (from imbalanced-learn->imblearn) (1.4.1)\n",
      "Requirement already satisfied: joblib>=0.11 in c:\\programdata\\anaconda3\\envs\\env\\lib\\site-packages (from imbalanced-learn->imblearn) (1.1.0)\n",
      "Requirement already satisfied: numpy>=1.13.3 in c:\\programdata\\anaconda3\\envs\\env\\lib\\site-packages (from imbalanced-learn->imblearn) (1.18.5)\n",
      "Collecting scikit-learn>=0.24\n",
      "  Using cached scikit_learn-1.0.2-cp37-cp37m-win_amd64.whl (7.1 MB)\n",
      "Requirement already satisfied: threadpoolctl>=2.0.0 in c:\\programdata\\anaconda3\\envs\\env\\lib\\site-packages (from scikit-learn>=0.24->imbalanced-learn->imblearn) (3.0.0)\n",
      "Installing collected packages: scikit-learn\n",
      "  Attempting uninstall: scikit-learn\n",
      "    Found existing installation: scikit-learn 0.23.2\n",
      "    Uninstalling scikit-learn-0.23.2:\n",
      "      Successfully uninstalled scikit-learn-0.23.2\n",
      "Successfully installed scikit-learn-1.0.2\n",
      "Requirement already satisfied: emoji in c:\\programdata\\anaconda3\\envs\\env\\lib\\site-packages (1.6.1)\n"
     ]
    },
    {
     "ename": "ImportError",
     "evalue": "cannot import name '_raise_dep_warning_if_not_pytest' from 'sklearn.utils.deprecation' (C:\\ProgramData\\Anaconda3\\envs\\env\\lib\\site-packages\\sklearn\\utils\\deprecation.py)",
     "output_type": "error",
     "traceback": [
      "\u001b[1;31m---------------------------------------------------------------------------\u001b[0m",
      "\u001b[1;31mImportError\u001b[0m                               Traceback (most recent call last)",
      "\u001b[1;32mC:\\Users\\ADMINI~1\\AppData\\Local\\Temp\\2/ipykernel_5184/573784995.py\u001b[0m in \u001b[0;36m<module>\u001b[1;34m\u001b[0m\n\u001b[0;32m     15\u001b[0m \u001b[1;32mimport\u001b[0m \u001b[0mnumpy\u001b[0m \u001b[1;32mas\u001b[0m \u001b[0mnp\u001b[0m\u001b[1;33m\u001b[0m\u001b[1;33m\u001b[0m\u001b[0m\n\u001b[0;32m     16\u001b[0m \u001b[1;32mimport\u001b[0m \u001b[0mmath\u001b[0m\u001b[1;33m\u001b[0m\u001b[1;33m\u001b[0m\u001b[0m\n\u001b[1;32m---> 17\u001b[1;33m \u001b[1;32mimport\u001b[0m \u001b[0mktrain\u001b[0m\u001b[1;33m\u001b[0m\u001b[1;33m\u001b[0m\u001b[0m\n\u001b[0m\u001b[0;32m     18\u001b[0m \u001b[1;32mimport\u001b[0m \u001b[0mnumpy\u001b[0m \u001b[1;32mas\u001b[0m \u001b[0mnp\u001b[0m\u001b[1;33m\u001b[0m\u001b[1;33m\u001b[0m\u001b[0m\n\u001b[0;32m     19\u001b[0m \u001b[1;32mimport\u001b[0m \u001b[0mpandas\u001b[0m \u001b[1;32mas\u001b[0m \u001b[0mpd\u001b[0m\u001b[1;33m\u001b[0m\u001b[1;33m\u001b[0m\u001b[0m\n",
      "\u001b[1;32mC:\\ProgramData\\Anaconda3\\envs\\env\\lib\\site-packages\\ktrain\\__init__.py\u001b[0m in \u001b[0;36m<module>\u001b[1;34m\u001b[0m\n\u001b[0;32m      1\u001b[0m \u001b[1;32mfrom\u001b[0m \u001b[1;33m.\u001b[0m\u001b[0mversion\u001b[0m \u001b[1;32mimport\u001b[0m \u001b[0m__version__\u001b[0m\u001b[1;33m\u001b[0m\u001b[1;33m\u001b[0m\u001b[0m\n\u001b[0;32m      2\u001b[0m \u001b[1;32mfrom\u001b[0m \u001b[1;33m.\u001b[0m \u001b[1;32mimport\u001b[0m \u001b[0mimports\u001b[0m \u001b[1;32mas\u001b[0m \u001b[0mI\u001b[0m\u001b[1;33m\u001b[0m\u001b[1;33m\u001b[0m\u001b[0m\n\u001b[1;32m----> 3\u001b[1;33m \u001b[1;32mfrom\u001b[0m \u001b[1;33m.\u001b[0m\u001b[0mcore\u001b[0m \u001b[1;32mimport\u001b[0m \u001b[0mArrayLearner\u001b[0m\u001b[1;33m,\u001b[0m \u001b[0mGenLearner\u001b[0m\u001b[1;33m,\u001b[0m \u001b[0mget_predictor\u001b[0m\u001b[1;33m,\u001b[0m \u001b[0mload_predictor\u001b[0m\u001b[1;33m,\u001b[0m \u001b[0mrelease_gpu_memory\u001b[0m\u001b[1;33m\u001b[0m\u001b[1;33m\u001b[0m\u001b[0m\n\u001b[0m\u001b[0;32m      4\u001b[0m \u001b[1;32mfrom\u001b[0m \u001b[1;33m.\u001b[0m\u001b[0mvision\u001b[0m\u001b[1;33m.\u001b[0m\u001b[0mlearner\u001b[0m \u001b[1;32mimport\u001b[0m \u001b[0mImageClassLearner\u001b[0m\u001b[1;33m\u001b[0m\u001b[1;33m\u001b[0m\u001b[0m\n\u001b[0;32m      5\u001b[0m \u001b[1;32mfrom\u001b[0m \u001b[1;33m.\u001b[0m\u001b[0mtext\u001b[0m\u001b[1;33m.\u001b[0m\u001b[0mlearner\u001b[0m \u001b[1;32mimport\u001b[0m \u001b[0mBERTTextClassLearner\u001b[0m\u001b[1;33m,\u001b[0m \u001b[0mTransformerTextClassLearner\u001b[0m\u001b[1;33m\u001b[0m\u001b[1;33m\u001b[0m\u001b[0m\n",
      "\u001b[1;32mC:\\ProgramData\\Anaconda3\\envs\\env\\lib\\site-packages\\ktrain\\core.py\u001b[0m in \u001b[0;36m<module>\u001b[1;34m\u001b[0m\n\u001b[0;32m      9\u001b[0m \u001b[1;32mfrom\u001b[0m \u001b[1;33m.\u001b[0m\u001b[0mvision\u001b[0m\u001b[1;33m.\u001b[0m\u001b[0mpreprocessor\u001b[0m \u001b[1;32mimport\u001b[0m \u001b[0mImagePreprocessor\u001b[0m\u001b[1;33m\u001b[0m\u001b[1;33m\u001b[0m\u001b[0m\n\u001b[0;32m     10\u001b[0m \u001b[1;32mfrom\u001b[0m \u001b[1;33m.\u001b[0m\u001b[0mvision\u001b[0m\u001b[1;33m.\u001b[0m\u001b[0mpredictor\u001b[0m \u001b[1;32mimport\u001b[0m \u001b[0mImagePredictor\u001b[0m\u001b[1;33m\u001b[0m\u001b[1;33m\u001b[0m\u001b[0m\n\u001b[1;32m---> 11\u001b[1;33m \u001b[1;32mfrom\u001b[0m \u001b[1;33m.\u001b[0m\u001b[0mtext\u001b[0m\u001b[1;33m.\u001b[0m\u001b[0mpreprocessor\u001b[0m \u001b[1;32mimport\u001b[0m \u001b[0mTextPreprocessor\u001b[0m\u001b[1;33m,\u001b[0m \u001b[0mBERTPreprocessor\u001b[0m\u001b[1;33m,\u001b[0m \u001b[0mTransformersPreprocessor\u001b[0m\u001b[1;33m\u001b[0m\u001b[1;33m\u001b[0m\u001b[0m\n\u001b[0m\u001b[0;32m     12\u001b[0m \u001b[1;32mfrom\u001b[0m \u001b[1;33m.\u001b[0m\u001b[0mtext\u001b[0m\u001b[1;33m.\u001b[0m\u001b[0mpredictor\u001b[0m \u001b[1;32mimport\u001b[0m \u001b[0mTextPredictor\u001b[0m\u001b[1;33m\u001b[0m\u001b[1;33m\u001b[0m\u001b[0m\n\u001b[0;32m     13\u001b[0m \u001b[1;32mfrom\u001b[0m \u001b[1;33m.\u001b[0m\u001b[0mtext\u001b[0m\u001b[1;33m.\u001b[0m\u001b[0mner\u001b[0m\u001b[1;33m.\u001b[0m\u001b[0mpredictor\u001b[0m \u001b[1;32mimport\u001b[0m \u001b[0mNERPredictor\u001b[0m\u001b[1;33m\u001b[0m\u001b[1;33m\u001b[0m\u001b[0m\n",
      "\u001b[1;32mC:\\ProgramData\\Anaconda3\\envs\\env\\lib\\site-packages\\ktrain\\text\\__init__.py\u001b[0m in \u001b[0;36m<module>\u001b[1;34m\u001b[0m\n\u001b[0;32m      9\u001b[0m \u001b[1;32mfrom\u001b[0m \u001b[1;33m.\u001b[0m\u001b[0mzsl\u001b[0m \u001b[1;32mimport\u001b[0m \u001b[0mZeroShotClassifier\u001b[0m\u001b[1;33m\u001b[0m\u001b[1;33m\u001b[0m\u001b[0m\n\u001b[0;32m     10\u001b[0m \u001b[1;32mfrom\u001b[0m \u001b[1;33m.\u001b[0m\u001b[0mtranslation\u001b[0m \u001b[1;32mimport\u001b[0m \u001b[0mEnglishTranslator\u001b[0m\u001b[1;33m,\u001b[0m \u001b[0mTranslator\u001b[0m\u001b[1;33m\u001b[0m\u001b[1;33m\u001b[0m\u001b[0m\n\u001b[1;32m---> 11\u001b[1;33m \u001b[1;32mfrom\u001b[0m \u001b[1;33m.\u001b[0m \u001b[1;32mimport\u001b[0m \u001b[0mshallownlp\u001b[0m\u001b[1;33m\u001b[0m\u001b[1;33m\u001b[0m\u001b[0m\n\u001b[0m\u001b[0;32m     12\u001b[0m \u001b[1;32mfrom\u001b[0m \u001b[1;33m.\u001b[0m\u001b[0mqa\u001b[0m \u001b[1;32mimport\u001b[0m \u001b[0mSimpleQA\u001b[0m\u001b[1;33m\u001b[0m\u001b[1;33m\u001b[0m\u001b[0m\n\u001b[0;32m     13\u001b[0m \u001b[1;32mfrom\u001b[0m \u001b[1;33m.\u001b[0m \u001b[1;32mimport\u001b[0m \u001b[0mtextutils\u001b[0m\u001b[1;33m\u001b[0m\u001b[1;33m\u001b[0m\u001b[0m\n",
      "\u001b[1;32mC:\\ProgramData\\Anaconda3\\envs\\env\\lib\\site-packages\\ktrain\\text\\shallownlp\\__init__.py\u001b[0m in \u001b[0;36m<module>\u001b[1;34m\u001b[0m\n\u001b[1;32m----> 1\u001b[1;33m \u001b[1;32mfrom\u001b[0m \u001b[1;33m.\u001b[0m\u001b[0mclassifier\u001b[0m \u001b[1;32mimport\u001b[0m \u001b[0mClassifier\u001b[0m\u001b[1;33m\u001b[0m\u001b[1;33m\u001b[0m\u001b[0m\n\u001b[0m\u001b[0;32m      2\u001b[0m \u001b[1;32mfrom\u001b[0m \u001b[1;33m.\u001b[0m\u001b[0msearcher\u001b[0m \u001b[1;32mimport\u001b[0m \u001b[1;33m*\u001b[0m\u001b[1;33m\u001b[0m\u001b[1;33m\u001b[0m\u001b[0m\n\u001b[0;32m      3\u001b[0m \u001b[1;32mfrom\u001b[0m \u001b[1;33m.\u001b[0m\u001b[0mner\u001b[0m \u001b[1;32mimport\u001b[0m \u001b[0mNER\u001b[0m\u001b[1;33m\u001b[0m\u001b[1;33m\u001b[0m\u001b[0m\n\u001b[0;32m      4\u001b[0m \u001b[1;32mfrom\u001b[0m \u001b[1;33m.\u001b[0m\u001b[0mutils\u001b[0m \u001b[1;32mimport\u001b[0m \u001b[0msent_tokenize\u001b[0m\u001b[1;33m,\u001b[0m \u001b[0mextract_filenames\u001b[0m\u001b[1;33m,\u001b[0m \u001b[0mread_text\u001b[0m\u001b[1;33m\u001b[0m\u001b[1;33m\u001b[0m\u001b[0m\n\u001b[0;32m      5\u001b[0m \u001b[1;33m\u001b[0m\u001b[0m\n",
      "\u001b[1;32mC:\\ProgramData\\Anaconda3\\envs\\env\\lib\\site-packages\\ktrain\\text\\shallownlp\\classifier.py\u001b[0m in \u001b[0;36m<module>\u001b[1;34m\u001b[0m\n\u001b[1;32m----> 1\u001b[1;33m \u001b[1;32mfrom\u001b[0m \u001b[1;33m.\u001b[0m\u001b[0mimports\u001b[0m \u001b[1;32mimport\u001b[0m \u001b[1;33m*\u001b[0m\u001b[1;33m\u001b[0m\u001b[1;33m\u001b[0m\u001b[0m\n\u001b[0m\u001b[0;32m      2\u001b[0m \u001b[1;32mfrom\u001b[0m \u001b[1;33m.\u001b[0m \u001b[1;32mimport\u001b[0m \u001b[0mutils\u001b[0m \u001b[1;32mas\u001b[0m \u001b[0mU\u001b[0m\u001b[1;33m\u001b[0m\u001b[1;33m\u001b[0m\u001b[0m\n\u001b[0;32m      3\u001b[0m \u001b[1;33m\u001b[0m\u001b[0m\n\u001b[0;32m      4\u001b[0m \u001b[1;33m\u001b[0m\u001b[0m\n\u001b[0;32m      5\u001b[0m \u001b[1;33m\u001b[0m\u001b[0m\n",
      "\u001b[1;32mC:\\ProgramData\\Anaconda3\\envs\\env\\lib\\site-packages\\ktrain\\text\\shallownlp\\imports.py\u001b[0m in \u001b[0;36m<module>\u001b[1;34m\u001b[0m\n\u001b[0;32m     25\u001b[0m \u001b[1;32mfrom\u001b[0m \u001b[0mscipy\u001b[0m\u001b[1;33m.\u001b[0m\u001b[0msparse\u001b[0m \u001b[1;32mimport\u001b[0m \u001b[0mspmatrix\u001b[0m\u001b[1;33m,\u001b[0m \u001b[0mcoo_matrix\u001b[0m\u001b[1;33m\u001b[0m\u001b[1;33m\u001b[0m\u001b[0m\n\u001b[0;32m     26\u001b[0m \u001b[1;32mfrom\u001b[0m \u001b[0msklearn\u001b[0m\u001b[1;33m.\u001b[0m\u001b[0mbase\u001b[0m \u001b[1;32mimport\u001b[0m \u001b[0mBaseEstimator\u001b[0m\u001b[1;33m\u001b[0m\u001b[1;33m\u001b[0m\u001b[0m\n\u001b[1;32m---> 27\u001b[1;33m \u001b[1;32mfrom\u001b[0m \u001b[0msklearn\u001b[0m\u001b[1;33m.\u001b[0m\u001b[0mlinear_model\u001b[0m\u001b[1;33m.\u001b[0m\u001b[0mbase\u001b[0m \u001b[1;32mimport\u001b[0m \u001b[0mLinearClassifierMixin\u001b[0m\u001b[1;33m,\u001b[0m \u001b[0mSparseCoefMixin\u001b[0m\u001b[1;33m\u001b[0m\u001b[1;33m\u001b[0m\u001b[0m\n\u001b[0m\u001b[0;32m     28\u001b[0m \u001b[1;32mfrom\u001b[0m \u001b[0msklearn\u001b[0m\u001b[1;33m.\u001b[0m\u001b[0msvm\u001b[0m \u001b[1;32mimport\u001b[0m \u001b[0mLinearSVC\u001b[0m\u001b[1;33m\u001b[0m\u001b[1;33m\u001b[0m\u001b[0m\n\u001b[0;32m     29\u001b[0m \u001b[1;32mfrom\u001b[0m \u001b[0msklearn\u001b[0m\u001b[1;33m.\u001b[0m\u001b[0mpipeline\u001b[0m \u001b[1;32mimport\u001b[0m \u001b[0mPipeline\u001b[0m\u001b[1;33m\u001b[0m\u001b[1;33m\u001b[0m\u001b[0m\n",
      "\u001b[1;32mC:\\ProgramData\\Anaconda3\\envs\\env\\lib\\site-packages\\sklearn\\linear_model\\base.py\u001b[0m in \u001b[0;36m<module>\u001b[1;34m\u001b[0m\n\u001b[0;32m      5\u001b[0m \u001b[1;32mfrom\u001b[0m \u001b[1;33m.\u001b[0m \u001b[1;32mimport\u001b[0m \u001b[0m_base\u001b[0m  \u001b[1;31m# type: ignore\u001b[0m\u001b[1;33m\u001b[0m\u001b[1;33m\u001b[0m\u001b[0m\n\u001b[0;32m      6\u001b[0m \u001b[1;32mfrom\u001b[0m \u001b[1;33m.\u001b[0m\u001b[1;33m.\u001b[0m\u001b[0mexternals\u001b[0m\u001b[1;33m.\u001b[0m\u001b[0m_pep562\u001b[0m \u001b[1;32mimport\u001b[0m \u001b[0mPep562\u001b[0m\u001b[1;33m\u001b[0m\u001b[1;33m\u001b[0m\u001b[0m\n\u001b[1;32m----> 7\u001b[1;33m \u001b[1;32mfrom\u001b[0m \u001b[1;33m.\u001b[0m\u001b[1;33m.\u001b[0m\u001b[0mutils\u001b[0m\u001b[1;33m.\u001b[0m\u001b[0mdeprecation\u001b[0m \u001b[1;32mimport\u001b[0m \u001b[0m_raise_dep_warning_if_not_pytest\u001b[0m\u001b[1;33m\u001b[0m\u001b[1;33m\u001b[0m\u001b[0m\n\u001b[0m\u001b[0;32m      8\u001b[0m \u001b[1;33m\u001b[0m\u001b[0m\n\u001b[0;32m      9\u001b[0m \u001b[0mdeprecated_path\u001b[0m \u001b[1;33m=\u001b[0m \u001b[1;34m'sklearn.linear_model.base'\u001b[0m\u001b[1;33m\u001b[0m\u001b[1;33m\u001b[0m\u001b[0m\n",
      "\u001b[1;31mImportError\u001b[0m: cannot import name '_raise_dep_warning_if_not_pytest' from 'sklearn.utils.deprecation' (C:\\ProgramData\\Anaconda3\\envs\\env\\lib\\site-packages\\sklearn\\utils\\deprecation.py)"
     ]
    }
   ],
   "source": [
    "# Importing Libraries\n",
    "!pip install transformers\n",
    "!pip install neattext\n",
    "!pip install ktrain==0.23.2\n",
    "!pip install imblearn\n",
    "!pip install emoji\n",
    "import emoji\n",
    "from sklearn.ensemble import RandomForestClassifier\n",
    "from imblearn.metrics import sensitivity_score, specificity_score\n",
    "import neattext.functions as nfx\n",
    "from sklearn import metrics\n",
    "from sklearn import svm\n",
    "from sklearn.feature_extraction.text import CountVectorizer\n",
    "from sklearn.metrics import accuracy_score, classification_report, confusion_matrix\n",
    "import numpy as np\n",
    "import math\n",
    "import ktrain\n",
    "import numpy as np\n",
    "import pandas as pd\n",
    "from ktrain import text\n",
    "from sklearn.model_selection import train_test_split\n",
    "from sklearn.preprocessing import LabelEncoder\n",
    "import os\n",
    "from textblob import TextBlob\n",
    "from wordcloud import WordCloud\n",
    "from collections import Counter\n",
    "from sklearn.preprocessing import LabelEncoder\n",
    "import numpy as np\n",
    "from os import path\n",
    "from PIL import Image\n",
    "from wordcloud import WordCloud, STOPWORDS, ImageColorGenerator\n",
    "import matplotlib.pyplot as plt\n",
    "import string\n",
    "from sklearn.feature_extraction.text import CountVectorizer\n",
    "import nltk\n",
    "import tweepy\n",
    "import sys\n",
    "from tweepy import Stream\n",
    "from tweepy import OAuthHandler\n",
    "from tweepy.streaming import StreamListener\n",
    "import time\n",
    "import datetime \n",
    "from sklearn.model_selection import train_test_split\n",
    "from tqdm import tqdm\n",
    "import pandas as pd\n",
    "from nltk.corpus import stopwords\n",
    "import re\n",
    "pd.set_option('display.max_colwidth', 100)\n",
    "import unicodedata\n",
    "import plotly.graph_objects as go\n",
    "import seaborn as sns\n",
    "from nltk import bigrams\n",
    "from nltk.sentiment.vader import SentimentIntensityAnalyzer as SIA\n",
    "from plotly.subplots import make_subplots\n",
    "from nltk.util import ngrams\n",
    "import nltk\n",
    "\n",
    "# Elements of preprocessing\n",
    "nltk.download('stopwords')\n",
    "nltk.download('wordnet')\n",
    "nltk.download('vader_lexicon')"
   ]
  },
  {
   "cell_type": "markdown",
   "id": "2c579aa6",
   "metadata": {
    "id": "2c579aa6"
   },
   "source": [
    "- Uncomment the line below in order to fetch the tweets from twitter and save in csv format on the needed location."
   ]
  },
  {
   "cell_type": "code",
   "execution_count": null,
   "id": "dc77d269",
   "metadata": {
    "colab": {
     "base_uri": "https://localhost:8080/"
    },
    "executionInfo": {
     "elapsed": 3541,
     "status": "ok",
     "timestamp": 1632570265480,
     "user": {
      "displayName": "Palak Gupta",
      "photoUrl": "https://lh3.googleusercontent.com/a-/AOh14GjJWMEdzqD2vqhU2H4cXo0GdM0gor5P7u8SVDN0tQ=s64",
      "userId": "17798964120895994502"
     },
     "user_tz": -330
    },
    "id": "dc77d269",
    "outputId": "0c51d0b5-f1f9-487c-b787-29c568c26ea5"
   },
   "outputs": [],
   "source": [
    "# Loading dataset with encoding type\n",
    "# df1 data is generated with the help of the above code\n",
    "import pandas as pd\n",
    "df1 = pd.read_csv('./covid_vaccine.csv' ,encoding= 'unicode_escape')\n",
    "# df2 data is generated with the help of scrape.ipynb file from the twitter\n",
    "df2 = pd.read_csv('./complete_covid_tweets.csv')"
   ]
  },
  {
   "cell_type": "code",
   "execution_count": null,
   "id": "9722cfee",
   "metadata": {
    "colab": {
     "base_uri": "https://localhost:8080/",
     "height": 202
    },
    "executionInfo": {
     "elapsed": 127,
     "status": "ok",
     "timestamp": 1632570265490,
     "user": {
      "displayName": "Palak Gupta",
      "photoUrl": "https://lh3.googleusercontent.com/a-/AOh14GjJWMEdzqD2vqhU2H4cXo0GdM0gor5P7u8SVDN0tQ=s64",
      "userId": "17798964120895994502"
     },
     "user_tz": -330
    },
    "id": "9722cfee",
    "outputId": "5e958ec2-35a7-4654-9f92-776bbdc95d6e"
   },
   "outputs": [],
   "source": [
    "# Data1\n",
    "df1.head()"
   ]
  },
  {
   "cell_type": "code",
   "execution_count": null,
   "id": "3fa17cb8",
   "metadata": {
    "colab": {
     "base_uri": "https://localhost:8080/",
     "height": 718
    },
    "executionInfo": {
     "elapsed": 120,
     "status": "ok",
     "timestamp": 1632570265492,
     "user": {
      "displayName": "Palak Gupta",
      "photoUrl": "https://lh3.googleusercontent.com/a-/AOh14GjJWMEdzqD2vqhU2H4cXo0GdM0gor5P7u8SVDN0tQ=s64",
      "userId": "17798964120895994502"
     },
     "user_tz": -330
    },
    "id": "3fa17cb8",
    "outputId": "2e82f659-db15-4957-eaab-e60f8ab4c1f0"
   },
   "outputs": [],
   "source": [
    "# Data2\n",
    "df2.head()"
   ]
  },
  {
   "cell_type": "code",
   "execution_count": null,
   "id": "59729856",
   "metadata": {
    "colab": {
     "base_uri": "https://localhost:8080/",
     "height": 202
    },
    "executionInfo": {
     "elapsed": 123,
     "status": "ok",
     "timestamp": 1632570265496,
     "user": {
      "displayName": "Palak Gupta",
      "photoUrl": "https://lh3.googleusercontent.com/a-/AOh14GjJWMEdzqD2vqhU2H4cXo0GdM0gor5P7u8SVDN0tQ=s64",
      "userId": "17798964120895994502"
     },
     "user_tz": -330
    },
    "id": "59729856",
    "outputId": "552a0900-3bb0-4c8e-8df1-2dfd139738e8"
   },
   "outputs": [],
   "source": [
    "# Taking the relevant column\n",
    "df2 = df2[['text']]\n",
    "df2.head()"
   ]
  },
  {
   "cell_type": "code",
   "execution_count": null,
   "id": "67993423",
   "metadata": {
    "colab": {
     "base_uri": "https://localhost:8080/",
     "height": 202
    },
    "executionInfo": {
     "elapsed": 122,
     "status": "ok",
     "timestamp": 1632570265498,
     "user": {
      "displayName": "Palak Gupta",
      "photoUrl": "https://lh3.googleusercontent.com/a-/AOh14GjJWMEdzqD2vqhU2H4cXo0GdM0gor5P7u8SVDN0tQ=s64",
      "userId": "17798964120895994502"
     },
     "user_tz": -330
    },
    "id": "67993423",
    "outputId": "78fc5f23-9ded-407d-a066-19deb5963ce6"
   },
   "outputs": [],
   "source": [
    "# creating dataframe\n",
    "df = pd.DataFrame(columns=['text'])\n",
    "df.text = df1['tweet_text']\n",
    "\n",
    "# combining the data\n",
    "df = df.append(df2)\n",
    "df.head()"
   ]
  },
  {
   "cell_type": "code",
   "execution_count": null,
   "id": "4c701aab",
   "metadata": {
    "colab": {
     "base_uri": "https://localhost:8080/"
    },
    "executionInfo": {
     "elapsed": 135,
     "status": "ok",
     "timestamp": 1632570265514,
     "user": {
      "displayName": "Palak Gupta",
      "photoUrl": "https://lh3.googleusercontent.com/a-/AOh14GjJWMEdzqD2vqhU2H4cXo0GdM0gor5P7u8SVDN0tQ=s64",
      "userId": "17798964120895994502"
     },
     "user_tz": -330
    },
    "id": "4c701aab",
    "outputId": "87494a73-71ee-43a3-cf07-35cbdfce3e95"
   },
   "outputs": [],
   "source": [
    "# Checking the shape\n",
    "df.shape"
   ]
  },
  {
   "cell_type": "code",
   "execution_count": null,
   "id": "fd25afbd",
   "metadata": {
    "colab": {
     "base_uri": "https://localhost:8080/"
    },
    "executionInfo": {
     "elapsed": 131,
     "status": "ok",
     "timestamp": 1632570265524,
     "user": {
      "displayName": "Palak Gupta",
      "photoUrl": "https://lh3.googleusercontent.com/a-/AOh14GjJWMEdzqD2vqhU2H4cXo0GdM0gor5P7u8SVDN0tQ=s64",
      "userId": "17798964120895994502"
     },
     "user_tz": -330
    },
    "id": "fd25afbd",
    "outputId": "3e30b747-eeb3-4bb8-905c-e034dd7385e5"
   },
   "outputs": [],
   "source": [
    "# Columns in the data\n",
    "df.columns"
   ]
  },
  {
   "cell_type": "code",
   "execution_count": null,
   "id": "bed4889d",
   "metadata": {
    "colab": {
     "base_uri": "https://localhost:8080/"
    },
    "executionInfo": {
     "elapsed": 125,
     "status": "ok",
     "timestamp": 1632570265530,
     "user": {
      "displayName": "Palak Gupta",
      "photoUrl": "https://lh3.googleusercontent.com/a-/AOh14GjJWMEdzqD2vqhU2H4cXo0GdM0gor5P7u8SVDN0tQ=s64",
      "userId": "17798964120895994502"
     },
     "user_tz": -330
    },
    "id": "bed4889d",
    "outputId": "f4130a0c-3469-4b5a-ade6-26cad2277a2e"
   },
   "outputs": [],
   "source": [
    "# Checking the null values\n",
    "df.isnull().sum()"
   ]
  },
  {
   "cell_type": "code",
   "execution_count": null,
   "id": "859d6d1d",
   "metadata": {
    "id": "859d6d1d"
   },
   "outputs": [],
   "source": [
    "# Dropping out null values from the dataset\n",
    "df.dropna(inplace=True)\n",
    "\n",
    "# Combining the data and then saving the relevant portion so as to use it directly\n",
    "# df.to_csv('kartik_data.csv')"
   ]
  },
  {
   "cell_type": "code",
   "execution_count": null,
   "id": "p5Yvt_uoQYOH",
   "metadata": {
    "colab": {
     "base_uri": "https://localhost:8080/",
     "height": 202
    },
    "executionInfo": {
     "elapsed": 1209,
     "status": "ok",
     "timestamp": 1632570266621,
     "user": {
      "displayName": "Palak Gupta",
      "photoUrl": "https://lh3.googleusercontent.com/a-/AOh14GjJWMEdzqD2vqhU2H4cXo0GdM0gor5P7u8SVDN0tQ=s64",
      "userId": "17798964120895994502"
     },
     "user_tz": -330
    },
    "id": "p5Yvt_uoQYOH",
    "outputId": "b2a33367-5791-461e-f2a5-75430fa2498f"
   },
   "outputs": [],
   "source": [
    "# Loading the data\n",
    "df=pd.read_csv('./kartik_data.csv')\n",
    "df.drop(df.columns[0], axis=1, inplace=True)\n",
    "df.head()"
   ]
  },
  {
   "cell_type": "code",
   "execution_count": null,
   "id": "qvRhivF2Pit5",
   "metadata": {
    "colab": {
     "base_uri": "https://localhost:8080/"
    },
    "executionInfo": {
     "elapsed": 28,
     "status": "ok",
     "timestamp": 1632570266625,
     "user": {
      "displayName": "Palak Gupta",
      "photoUrl": "https://lh3.googleusercontent.com/a-/AOh14GjJWMEdzqD2vqhU2H4cXo0GdM0gor5P7u8SVDN0tQ=s64",
      "userId": "17798964120895994502"
     },
     "user_tz": -330
    },
    "id": "qvRhivF2Pit5",
    "outputId": "b3324aec-1c0a-4924-b61d-d921340a1224"
   },
   "outputs": [],
   "source": [
    "# Shape\n",
    "df.shape"
   ]
  },
  {
   "cell_type": "markdown",
   "id": "2HJY9I4BRfzV",
   "metadata": {
    "id": "2HJY9I4BRfzV"
   },
   "source": [
    "- Removing all the emojis instances because a tweet can have different contexts, there is a huge possibility that the replacing word of emoji might take the sentence in totally different possibilty which will lead our model to predict wrong."
   ]
  },
  {
   "cell_type": "code",
   "execution_count": null,
   "id": "zJ9idw0GPizF",
   "metadata": {
    "id": "zJ9idw0GPizF"
   },
   "outputs": [],
   "source": [
    "# tweet removal\n",
    "def extract_emojis(s):\n",
    "  return ''.join(c for c in s if c in emoji.UNICODE_EMOJI['en'])\n",
    "\n",
    "data = []\n",
    "for i in range(df.shape[0]):\n",
    "  emoji_ = []\n",
    "  emoji_ = extract_emojis(df.text[i])\n",
    "  if len(emoji_)==0:\n",
    "      data.append(df.text[i])"
   ]
  },
  {
   "cell_type": "code",
   "execution_count": null,
   "id": "8ee7c255",
   "metadata": {
    "colab": {
     "base_uri": "https://localhost:8080/"
    },
    "executionInfo": {
     "elapsed": 34,
     "status": "ok",
     "timestamp": 1632570270525,
     "user": {
      "displayName": "Palak Gupta",
      "photoUrl": "https://lh3.googleusercontent.com/a-/AOh14GjJWMEdzqD2vqhU2H4cXo0GdM0gor5P7u8SVDN0tQ=s64",
      "userId": "17798964120895994502"
     },
     "user_tz": -330
    },
    "id": "8ee7c255",
    "outputId": "54d709b4-b1d0-48d4-b199-dfcf49b2012d"
   },
   "outputs": [],
   "source": [
    "# Length\n",
    "len(data)"
   ]
  },
  {
   "cell_type": "markdown",
   "id": "ib4PcN64Sbm_",
   "metadata": {
    "id": "ib4PcN64Sbm_"
   },
   "source": [
    "- Removing the tweets which are having urls with them. It is because when a post is created then there is a possibility that tweet might be absent another possibilty is the only presence of hashtags therefore removing those tweets is the better opinion to achieve better accuracy."
   ]
  },
  {
   "cell_type": "code",
   "execution_count": null,
   "id": "as9wau4FSuW4",
   "metadata": {
    "colab": {
     "base_uri": "https://localhost:8080/"
    },
    "executionInfo": {
     "elapsed": 30,
     "status": "ok",
     "timestamp": 1632570270534,
     "user": {
      "displayName": "Palak Gupta",
      "photoUrl": "https://lh3.googleusercontent.com/a-/AOh14GjJWMEdzqD2vqhU2H4cXo0GdM0gor5P7u8SVDN0tQ=s64",
      "userId": "17798964120895994502"
     },
     "user_tz": -330
    },
    "id": "as9wau4FSuW4",
    "outputId": "8d63ce4b-101b-4122-a90b-7e9311722a2f"
   },
   "outputs": [],
   "source": [
    "#removing tweets containing urls\n",
    "data_noUrl = []\n",
    "for tweet in data:\n",
    "  if 'https:' not in tweet:\n",
    "    data_noUrl.append(tweet)\n",
    "len(data_noUrl)"
   ]
  },
  {
   "cell_type": "code",
   "execution_count": null,
   "id": "Mez8GuQ4VdRb",
   "metadata": {
    "colab": {
     "base_uri": "https://localhost:8080/",
     "height": 35
    },
    "executionInfo": {
     "elapsed": 12,
     "status": "ok",
     "timestamp": 1632570277379,
     "user": {
      "displayName": "Palak Gupta",
      "photoUrl": "https://lh3.googleusercontent.com/a-/AOh14GjJWMEdzqD2vqhU2H4cXo0GdM0gor5P7u8SVDN0tQ=s64",
      "userId": "17798964120895994502"
     },
     "user_tz": -330
    },
    "id": "Mez8GuQ4VdRb",
    "outputId": "e6863ddf-569e-4f4d-f6d6-af09b3cbee7b"
   },
   "outputs": [],
   "source": [
    "# Sample\n",
    "data_noUrl[3]"
   ]
  },
  {
   "cell_type": "code",
   "execution_count": null,
   "id": "4DVfDGMpUGOk",
   "metadata": {
    "colab": {
     "base_uri": "https://localhost:8080/"
    },
    "executionInfo": {
     "elapsed": 1370,
     "status": "ok",
     "timestamp": 1632570279365,
     "user": {
      "displayName": "Palak Gupta",
      "photoUrl": "https://lh3.googleusercontent.com/a-/AOh14GjJWMEdzqD2vqhU2H4cXo0GdM0gor5P7u8SVDN0tQ=s64",
      "userId": "17798964120895994502"
     },
     "user_tz": -330
    },
    "id": "4DVfDGMpUGOk",
    "outputId": "e8adf6f6-0482-43a9-dbe0-2addee99fa23"
   },
   "outputs": [],
   "source": [
    "#removing some escape characters\n",
    "escapes = '\\b\\n\\x92\\x91\\x93\\x94\\r\\t\\\\' \n",
    "for s in range(len(data_noUrl)):\n",
    "  for c in escapes: \n",
    "    data_noUrl[s]=data_noUrl[s].replace(c, '') \n",
    "data_noUrl"
   ]
  },
  {
   "cell_type": "code",
   "execution_count": null,
   "id": "thQ2TDNbXdV2",
   "metadata": {
    "id": "thQ2TDNbXdV2"
   },
   "outputs": [],
   "source": [
    "df = pd.DataFrame(columns=['text'])\n",
    "df['text']=data_noUrl"
   ]
  },
  {
   "cell_type": "code",
   "execution_count": null,
   "id": "e281d84f",
   "metadata": {
    "colab": {
     "base_uri": "https://localhost:8080/"
    },
    "executionInfo": {
     "elapsed": 173,
     "status": "ok",
     "timestamp": 1632570279416,
     "user": {
      "displayName": "Palak Gupta",
      "photoUrl": "https://lh3.googleusercontent.com/a-/AOh14GjJWMEdzqD2vqhU2H4cXo0GdM0gor5P7u8SVDN0tQ=s64",
      "userId": "17798964120895994502"
     },
     "user_tz": -330
    },
    "id": "e281d84f",
    "outputId": "4f6563b9-4a12-4a7b-a1ce-80fde47f8387"
   },
   "outputs": [],
   "source": [
    "# Extracting hashtags\n",
    "df['text'].apply(nfx.extract_hashtags)"
   ]
  },
  {
   "cell_type": "code",
   "execution_count": null,
   "id": "2c6d952f",
   "metadata": {
    "id": "2c6d952f"
   },
   "outputs": [],
   "source": [
    "# Saving hashtage to a column\n",
    "df['extracted_hashtags'] = df['text'].apply(nfx.extract_hashtags)"
   ]
  },
  {
   "cell_type": "code",
   "execution_count": null,
   "id": "63e53d72",
   "metadata": {
    "id": "63e53d72"
   },
   "outputs": [],
   "source": [
    "# Cleaning text with removal of hashtags\n",
    "df['clean_tweet'] = df['text'].apply(nfx.remove_hashtags)"
   ]
  },
  {
   "cell_type": "code",
   "execution_count": null,
   "id": "1def5e1d",
   "metadata": {
    "colab": {
     "base_uri": "https://localhost:8080/",
     "height": 414
    },
    "executionInfo": {
     "elapsed": 84,
     "status": "ok",
     "timestamp": 1632570279423,
     "user": {
      "displayName": "Palak Gupta",
      "photoUrl": "https://lh3.googleusercontent.com/a-/AOh14GjJWMEdzqD2vqhU2H4cXo0GdM0gor5P7u8SVDN0tQ=s64",
      "userId": "17798964120895994502"
     },
     "user_tz": -330
    },
    "id": "1def5e1d",
    "outputId": "82dfeb73-eaa9-4836-8f16-5292532dfff3"
   },
   "outputs": [],
   "source": [
    "# Previewing data\n",
    "df[['text','clean_tweet']]"
   ]
  },
  {
   "cell_type": "code",
   "execution_count": null,
   "id": "48e8753f",
   "metadata": {
    "id": "48e8753f"
   },
   "outputs": [],
   "source": [
    "# Removing userhandels\n",
    "df['clean_tweet'] = df['clean_tweet'].apply(lambda x: nfx.remove_userhandles(x))"
   ]
  },
  {
   "cell_type": "code",
   "execution_count": null,
   "id": "e615f23a",
   "metadata": {
    "colab": {
     "base_uri": "https://localhost:8080/",
     "height": 414
    },
    "executionInfo": {
     "elapsed": 83,
     "status": "ok",
     "timestamp": 1632570279425,
     "user": {
      "displayName": "Palak Gupta",
      "photoUrl": "https://lh3.googleusercontent.com/a-/AOh14GjJWMEdzqD2vqhU2H4cXo0GdM0gor5P7u8SVDN0tQ=s64",
      "userId": "17798964120895994502"
     },
     "user_tz": -330
    },
    "id": "e615f23a",
    "outputId": "e459fc7e-ebdd-4d15-b79d-afbb612b7723"
   },
   "outputs": [],
   "source": [
    "df[['text','clean_tweet']]"
   ]
  },
  {
   "cell_type": "code",
   "execution_count": null,
   "id": "94dbeffa",
   "metadata": {
    "id": "94dbeffa"
   },
   "outputs": [],
   "source": [
    "# Removing multiple spaces\n",
    "df['clean_tweet'] = df['clean_tweet'].apply(nfx.remove_multiple_spaces)"
   ]
  },
  {
   "cell_type": "code",
   "execution_count": null,
   "id": "414c8248",
   "metadata": {
    "id": "414c8248"
   },
   "outputs": [],
   "source": [
    "# Removing urls\n",
    "df['clean_tweet'] = df['clean_tweet'].apply(nfx.remove_urls)"
   ]
  },
  {
   "cell_type": "code",
   "execution_count": null,
   "id": "29d0df40",
   "metadata": {
    "id": "29d0df40"
   },
   "outputs": [],
   "source": [
    "# Removing punctuation\n",
    "df['clean_tweet'] = df['clean_tweet'].apply(nfx.remove_puncts)"
   ]
  },
  {
   "cell_type": "code",
   "execution_count": null,
   "id": "cc031cbb",
   "metadata": {
    "colab": {
     "base_uri": "https://localhost:8080/",
     "height": 414
    },
    "executionInfo": {
     "elapsed": 32,
     "status": "ok",
     "timestamp": 1632570280944,
     "user": {
      "displayName": "Palak Gupta",
      "photoUrl": "https://lh3.googleusercontent.com/a-/AOh14GjJWMEdzqD2vqhU2H4cXo0GdM0gor5P7u8SVDN0tQ=s64",
      "userId": "17798964120895994502"
     },
     "user_tz": -330
    },
    "id": "cc031cbb",
    "outputId": "fd7d91aa-a6ef-41b1-8b67-db831e024de2"
   },
   "outputs": [],
   "source": [
    "df[['text','clean_tweet']]"
   ]
  },
  {
   "cell_type": "code",
   "execution_count": null,
   "id": "e4119656",
   "metadata": {},
   "outputs": [],
   "source": [
    "!pip install TextBlob"
   ]
  },
  {
   "cell_type": "code",
   "execution_count": null,
   "id": "dfcf75ab",
   "metadata": {
    "id": "dfcf75ab"
   },
   "outputs": [],
   "source": [
    "# User defined function to get the sentiments\n",
    "from textblob import TextBlob\n",
    "def get_sentiment(text):\n",
    "    blob = TextBlob(text)\n",
    "    sentiment_polarity = blob.sentiment.polarity\n",
    "    sentiment_subjectivity = blob.sentiment.subjectivity\n",
    "    if sentiment_polarity > 0:\n",
    "        sentiment_label = 1\n",
    "    elif sentiment_polarity < 0:\n",
    "        sentiment_label = -1\n",
    "    else:\n",
    "        sentiment_label = 0\n",
    "    result = {'polarity':sentiment_polarity,\n",
    "              'subjectivity':sentiment_subjectivity,\n",
    "              'sentiment':sentiment_label}\n",
    "    return result"
   ]
  },
  {
   "cell_type": "code",
   "execution_count": null,
   "id": "853b00c3",
   "metadata": {
    "colab": {
     "base_uri": "https://localhost:8080/"
    },
    "executionInfo": {
     "elapsed": 31,
     "status": "ok",
     "timestamp": 1632570280946,
     "user": {
      "displayName": "Palak Gupta",
      "photoUrl": "https://lh3.googleusercontent.com/a-/AOh14GjJWMEdzqD2vqhU2H4cXo0GdM0gor5P7u8SVDN0tQ=s64",
      "userId": "17798964120895994502"
     },
     "user_tz": -330
    },
    "id": "853b00c3",
    "outputId": "19f96102-c861-4e22-c659-3cf0e91efa9d"
   },
   "outputs": [],
   "source": [
    "# Checking Text\n",
    "ex1 = df['clean_tweet'].iloc[10]\n",
    "get_sentiment(ex1)"
   ]
  },
  {
   "cell_type": "code",
   "execution_count": null,
   "id": "24eddd51",
   "metadata": {
    "id": "24eddd51"
   },
   "outputs": [],
   "source": [
    "df['sentiment_results'] = df['clean_tweet'].apply(get_sentiment)"
   ]
  },
  {
   "cell_type": "code",
   "execution_count": null,
   "id": "cea67452",
   "metadata": {
    "colab": {
     "base_uri": "https://localhost:8080/"
    },
    "executionInfo": {
     "elapsed": 85,
     "status": "ok",
     "timestamp": 1632570290033,
     "user": {
      "displayName": "Palak Gupta",
      "photoUrl": "https://lh3.googleusercontent.com/a-/AOh14GjJWMEdzqD2vqhU2H4cXo0GdM0gor5P7u8SVDN0tQ=s64",
      "userId": "17798964120895994502"
     },
     "user_tz": -330
    },
    "id": "cea67452",
    "outputId": "fe6277f8-bf26-4151-8eb9-932f84a303db"
   },
   "outputs": [],
   "source": [
    "# preview sentiment result\n",
    "df['sentiment_results']"
   ]
  },
  {
   "cell_type": "code",
   "execution_count": null,
   "id": "9bf389df",
   "metadata": {
    "id": "9bf389df"
   },
   "outputs": [],
   "source": [
    "df = df.join(pd.json_normalize(df['sentiment_results']))"
   ]
  },
  {
   "cell_type": "code",
   "execution_count": null,
   "id": "d618cc4f",
   "metadata": {
    "colab": {
     "base_uri": "https://localhost:8080/",
     "height": 302
    },
    "executionInfo": {
     "elapsed": 80,
     "status": "ok",
     "timestamp": 1632570290037,
     "user": {
      "displayName": "Palak Gupta",
      "photoUrl": "https://lh3.googleusercontent.com/a-/AOh14GjJWMEdzqD2vqhU2H4cXo0GdM0gor5P7u8SVDN0tQ=s64",
      "userId": "17798964120895994502"
     },
     "user_tz": -330
    },
    "id": "d618cc4f",
    "outputId": "c0e6045d-5a68-4f73-ab30-272cdcde4a9e"
   },
   "outputs": [],
   "source": [
    "df.head()"
   ]
  },
  {
   "cell_type": "code",
   "execution_count": null,
   "id": "dc64c152",
   "metadata": {
    "colab": {
     "base_uri": "https://localhost:8080/"
    },
    "executionInfo": {
     "elapsed": 85,
     "status": "ok",
     "timestamp": 1632570290046,
     "user": {
      "displayName": "Palak Gupta",
      "photoUrl": "https://lh3.googleusercontent.com/a-/AOh14GjJWMEdzqD2vqhU2H4cXo0GdM0gor5P7u8SVDN0tQ=s64",
      "userId": "17798964120895994502"
     },
     "user_tz": -330
    },
    "id": "dc64c152",
    "outputId": "d0ac72aa-57e5-4d77-bd5c-2591cac40682"
   },
   "outputs": [],
   "source": [
    "df['sentiment'].value_counts()"
   ]
  },
  {
   "cell_type": "code",
   "execution_count": null,
   "id": "1e19e087",
   "metadata": {
    "colab": {
     "base_uri": "https://localhost:8080/",
     "height": 282
    },
    "executionInfo": {
     "elapsed": 81,
     "status": "ok",
     "timestamp": 1632570290047,
     "user": {
      "displayName": "Palak Gupta",
      "photoUrl": "https://lh3.googleusercontent.com/a-/AOh14GjJWMEdzqD2vqhU2H4cXo0GdM0gor5P7u8SVDN0tQ=s64",
      "userId": "17798964120895994502"
     },
     "user_tz": -330
    },
    "id": "1e19e087",
    "outputId": "ef659676-92f4-4621-8366-d651f3b0b167"
   },
   "outputs": [],
   "source": [
    "# Graph for value count\n",
    "df['sentiment'].value_counts().plot(kind='bar')"
   ]
  },
  {
   "cell_type": "code",
   "execution_count": null,
   "id": "5541df07",
   "metadata": {
    "colab": {
     "base_uri": "https://localhost:8080/",
     "height": 296
    },
    "executionInfo": {
     "elapsed": 76,
     "status": "ok",
     "timestamp": 1632570290048,
     "user": {
      "displayName": "Palak Gupta",
      "photoUrl": "https://lh3.googleusercontent.com/a-/AOh14GjJWMEdzqD2vqhU2H4cXo0GdM0gor5P7u8SVDN0tQ=s64",
      "userId": "17798964120895994502"
     },
     "user_tz": -330
    },
    "id": "5541df07",
    "outputId": "6f9533f2-6e75-49df-f0d5-7a032f4b5f62"
   },
   "outputs": [],
   "source": [
    "# Plot with seaborn\n",
    "!pip install seaborn\n",
    "import seaborn as sns\n",
    "sns.countplot(df['sentiment'])"
   ]
  },
  {
   "cell_type": "code",
   "execution_count": null,
   "id": "9293adc2",
   "metadata": {
    "id": "9293adc2"
   },
   "outputs": [],
   "source": [
    "# Extraction\n",
    "positive_tweet = df[df['sentiment'] == 1]['clean_tweet']\n",
    "neutral_tweet = df[df['sentiment'] == 0]['clean_tweet']\n",
    "negative_tweet = df[df['sentiment'] == -1]['clean_tweet']"
   ]
  },
  {
   "cell_type": "code",
   "execution_count": null,
   "id": "ae9b14c3",
   "metadata": {
    "id": "ae9b14c3"
   },
   "outputs": [],
   "source": [
    "# Remove Stopwords and Convert to Tokens\n",
    "positive_tweet_list = positive_tweet.apply(nfx.remove_stopwords).tolist()\n",
    "negative_tweet_list = negative_tweet.apply(nfx.remove_stopwords).tolist()\n",
    "neutral_tweet_list = neutral_tweet.apply(nfx.remove_stopwords).tolist()"
   ]
  },
  {
   "cell_type": "code",
   "execution_count": null,
   "id": "626a6bb1",
   "metadata": {
    "id": "626a6bb1"
   },
   "outputs": [],
   "source": [
    "pos_tokens = [token for line in positive_tweet_list  for token in line.split()]\n",
    "neg_tokens = [token for line in negative_tweet_list  for token in line.split()]\n",
    "neut_tokens = [token for line in neutral_tweet_list  for token in line.split()]"
   ]
  },
  {
   "cell_type": "code",
   "execution_count": null,
   "id": "eaee30b4",
   "metadata": {
    "id": "eaee30b4"
   },
   "outputs": [],
   "source": [
    "# Get Tokens\n",
    "def get_tokens(docx,num=30):\n",
    "    word_tokens = Counter(docx)\n",
    "    most_common = word_tokens.most_common(num)\n",
    "    result = dict(most_common)\n",
    "    return result"
   ]
  },
  {
   "cell_type": "code",
   "execution_count": null,
   "id": "46136ceb",
   "metadata": {
    "colab": {
     "base_uri": "https://localhost:8080/"
    },
    "executionInfo": {
     "elapsed": 74,
     "status": "ok",
     "timestamp": 1632570290056,
     "user": {
      "displayName": "Palak Gupta",
      "photoUrl": "https://lh3.googleusercontent.com/a-/AOh14GjJWMEdzqD2vqhU2H4cXo0GdM0gor5P7u8SVDN0tQ=s64",
      "userId": "17798964120895994502"
     },
     "user_tz": -330
    },
    "id": "46136ceb",
    "outputId": "59ce5ab2-456b-4136-edf3-6498ed35f861"
   },
   "outputs": [],
   "source": [
    "from collections import Counter\n",
    "\n",
    "# Positive tokens\n",
    "get_tokens(pos_tokens)"
   ]
  },
  {
   "cell_type": "code",
   "execution_count": null,
   "id": "7f240a13",
   "metadata": {
    "id": "7f240a13"
   },
   "outputs": [],
   "source": [
    "# Fetching the tokens for all sentiments\n",
    "most_common_pos_words = get_tokens(pos_tokens)\n",
    "most_common_neg_words = get_tokens(neg_tokens)\n",
    "most_common_neut_words = get_tokens(neut_tokens)"
   ]
  },
  {
   "cell_type": "code",
   "execution_count": null,
   "id": "d4e4512a",
   "metadata": {
    "colab": {
     "base_uri": "https://localhost:8080/",
     "height": 202
    },
    "executionInfo": {
     "elapsed": 75,
     "status": "ok",
     "timestamp": 1632570290062,
     "user": {
      "displayName": "Palak Gupta",
      "photoUrl": "https://lh3.googleusercontent.com/a-/AOh14GjJWMEdzqD2vqhU2H4cXo0GdM0gor5P7u8SVDN0tQ=s64",
      "userId": "17798964120895994502"
     },
     "user_tz": -330
    },
    "id": "d4e4512a",
    "outputId": "27058d22-7c8f-41e2-8cdc-091bef59dd74"
   },
   "outputs": [],
   "source": [
    "# Plot with seaborn\n",
    "neg_df = pd.DataFrame(most_common_neg_words.items(),columns=['words','scores'])\n",
    "neg_df.head()"
   ]
  },
  {
   "cell_type": "code",
   "execution_count": null,
   "id": "b66547c2",
   "metadata": {},
   "outputs": [],
   "source": [
    "# !pip install wordcloud"
   ]
  },
  {
   "cell_type": "code",
   "execution_count": null,
   "id": "8247cdd6",
   "metadata": {
    "id": "8247cdd6"
   },
   "outputs": [],
   "source": [
    "!pip install wordcloud\n",
    "from wordcloud import WordCloud\n",
    "\n",
    "# Word Cloud\n",
    "def plot_wordcloud(docx):\n",
    "    plt.figure(figsize=(20,10))\n",
    "    mywordcloud = WordCloud().generate(docx)\n",
    "    plt.imshow(mywordcloud,interpolation='bilinear')\n",
    "    plt.axis('off')\n",
    "    plt.show()"
   ]
  },
  {
   "cell_type": "code",
   "execution_count": null,
   "id": "2cda4955",
   "metadata": {
    "id": "2cda4955"
   },
   "outputs": [],
   "source": [
    "pos_docx = ' '.join(pos_tokens)\n",
    "neg_docx = ' '.join(neg_tokens)\n",
    "neu_docx = ' '.join(neut_tokens)"
   ]
  },
  {
   "cell_type": "code",
   "execution_count": null,
   "id": "2557d82a",
   "metadata": {
    "colab": {
     "base_uri": "https://localhost:8080/",
     "height": 575
    },
    "executionInfo": {
     "elapsed": 2897,
     "status": "ok",
     "timestamp": 1632570293502,
     "user": {
      "displayName": "Palak Gupta",
      "photoUrl": "https://lh3.googleusercontent.com/a-/AOh14GjJWMEdzqD2vqhU2H4cXo0GdM0gor5P7u8SVDN0tQ=s64",
      "userId": "17798964120895994502"
     },
     "user_tz": -330
    },
    "id": "2557d82a",
    "outputId": "76c8b5ca-b8b7-4695-f17d-2094c7ce392b"
   },
   "outputs": [],
   "source": [
    "import matplotlib.pyplot as plt\n",
    "# Plotting wordcloud of positive words\n",
    "plot_wordcloud(pos_docx)"
   ]
  },
  {
   "cell_type": "code",
   "execution_count": null,
   "id": "7c9823a1",
   "metadata": {
    "colab": {
     "base_uri": "https://localhost:8080/",
     "height": 575
    },
    "executionInfo": {
     "elapsed": 2497,
     "status": "ok",
     "timestamp": 1632570295992,
     "user": {
      "displayName": "Palak Gupta",
      "photoUrl": "https://lh3.googleusercontent.com/a-/AOh14GjJWMEdzqD2vqhU2H4cXo0GdM0gor5P7u8SVDN0tQ=s64",
      "userId": "17798964120895994502"
     },
     "user_tz": -330
    },
    "id": "7c9823a1",
    "outputId": "9d2468b9-59f1-46d2-e253-98bef5ebe750"
   },
   "outputs": [],
   "source": [
    "# Wordcloud of negative words\n",
    "plot_wordcloud(neg_docx)"
   ]
  },
  {
   "cell_type": "code",
   "execution_count": null,
   "id": "2b174822",
   "metadata": {
    "colab": {
     "base_uri": "https://localhost:8080/",
     "height": 575
    },
    "executionInfo": {
     "elapsed": 32,
     "status": "ok",
     "timestamp": 1632570295993,
     "user": {
      "displayName": "Palak Gupta",
      "photoUrl": "https://lh3.googleusercontent.com/a-/AOh14GjJWMEdzqD2vqhU2H4cXo0GdM0gor5P7u8SVDN0tQ=s64",
      "userId": "17798964120895994502"
     },
     "user_tz": -330
    },
    "id": "2b174822",
    "outputId": "e81a0922-7d63-455c-f953-bab72a82c910"
   },
   "outputs": [],
   "source": [
    "# Wordcloud of neutral words\n",
    "plot_wordcloud(neu_docx)"
   ]
  },
  {
   "cell_type": "code",
   "execution_count": null,
   "id": "8ea192e8",
   "metadata": {
    "id": "8ea192e8"
   },
   "outputs": [],
   "source": [
    "# text clean\n",
    "def basic_clean(text):\n",
    "    wnl = nltk.stem.WordNetLemmatizer()\n",
    "    #remove stopwords\n",
    "    stopwords = nltk.corpus.stopwords.words('english') #+ ADDITIONAL_STOPWORDS\n",
    "    #removing non-ASCII characters,normalization, encoding/decoding, lower casing, and lemmatization.\n",
    "    text = (unicodedata.normalize('NFKD', text).encode('ascii', 'ignore').decode('utf-8', 'ignore').lower())\n",
    "    # Remove mentions\n",
    "    text = re.sub(r'@[A-Za-z0-9_]+', '', text)\n",
    "    # Remove hashtags\n",
    "    text = re.sub(r'#', '', text)\n",
    "    url_pattern = re.compile(r'https?://\\S+|www\\.\\S+')\n",
    "    text = url_pattern.sub(r'', text)\n",
    "    text = re.sub('[0-9]+', '', text)\n",
    "    words = re.sub(r'[^\\w\\s]', '', text).split()\n",
    "    text = [wnl.lemmatize(word) for word in words if word not in stopwords]\n",
    "    return text"
   ]
  },
  {
   "cell_type": "code",
   "execution_count": null,
   "id": "5a1424a2",
   "metadata": {
    "colab": {
     "base_uri": "https://localhost:8080/"
    },
    "executionInfo": {
     "elapsed": 4637,
     "status": "ok",
     "timestamp": 1632570300604,
     "user": {
      "displayName": "Palak Gupta",
      "photoUrl": "https://lh3.googleusercontent.com/a-/AOh14GjJWMEdzqD2vqhU2H4cXo0GdM0gor5P7u8SVDN0tQ=s64",
      "userId": "17798964120895994502"
     },
     "user_tz": -330
    },
    "id": "5a1424a2",
    "outputId": "22646969-a5be-4a94-c0c4-44fa585ca8be"
   },
   "outputs": [],
   "source": [
    "import nltk\n",
    "nltk.download('omw-1.4')\n",
    "import unicodedata\n",
    "import re\n",
    "nltk.download('wordnet')\n",
    "\n",
    "\n",
    "tweet_cln = basic_clean(''.join(str(df['text'].tolist())))\n",
    "tweet_cln"
   ]
  },
  {
   "cell_type": "code",
   "execution_count": null,
   "id": "7897dbf5",
   "metadata": {
    "colab": {
     "base_uri": "https://localhost:8080/"
    },
    "executionInfo": {
     "elapsed": 656,
     "status": "ok",
     "timestamp": 1632570301251,
     "user": {
      "displayName": "Palak Gupta",
      "photoUrl": "https://lh3.googleusercontent.com/a-/AOh14GjJWMEdzqD2vqhU2H4cXo0GdM0gor5P7u8SVDN0tQ=s64",
      "userId": "17798964120895994502"
     },
     "user_tz": -330
    },
    "id": "7897dbf5",
    "outputId": "183723ca-8485-49db-c3bc-45e6fc0d57be"
   },
   "outputs": [],
   "source": [
    "#top 30 unigram\n",
    "unigram =(pd.Series(nltk.ngrams(tweet_cln , 1)).value_counts())[:30]\n",
    "unigram"
   ]
  },
  {
   "cell_type": "code",
   "execution_count": null,
   "id": "27a291eb",
   "metadata": {
    "colab": {
     "base_uri": "https://localhost:8080/"
    },
    "executionInfo": {
     "elapsed": 10,
     "status": "ok",
     "timestamp": 1632570301251,
     "user": {
      "displayName": "Palak Gupta",
      "photoUrl": "https://lh3.googleusercontent.com/a-/AOh14GjJWMEdzqD2vqhU2H4cXo0GdM0gor5P7u8SVDN0tQ=s64",
      "userId": "17798964120895994502"
     },
     "user_tz": -330
    },
    "id": "27a291eb",
    "outputId": "2afa10b4-92d4-4c45-b8e1-236729a6e757"
   },
   "outputs": [],
   "source": [
    "#Top 20 Bigrams\n",
    "bigram =(pd.Series(nltk.ngrams(tweet_cln , 2)).value_counts())[:20]\n",
    "bigram"
   ]
  },
  {
   "cell_type": "code",
   "execution_count": null,
   "id": "278ea4b0",
   "metadata": {
    "colab": {
     "base_uri": "https://localhost:8080/"
    },
    "executionInfo": {
     "elapsed": 370,
     "status": "ok",
     "timestamp": 1632570301618,
     "user": {
      "displayName": "Palak Gupta",
      "photoUrl": "https://lh3.googleusercontent.com/a-/AOh14GjJWMEdzqD2vqhU2H4cXo0GdM0gor5P7u8SVDN0tQ=s64",
      "userId": "17798964120895994502"
     },
     "user_tz": -330
    },
    "id": "278ea4b0",
    "outputId": "2dbebb85-9a40-46e3-c3a0-07773c42ae9f",
    "scrolled": true
   },
   "outputs": [],
   "source": [
    "#Top 20 Trigrams\n",
    "trigram =(pd.Series(nltk.ngrams(tweet_cln , 3)).value_counts())[:20]\n",
    "trigram"
   ]
  },
  {
   "cell_type": "code",
   "execution_count": null,
   "id": "f663d80c",
   "metadata": {
    "colab": {
     "base_uri": "https://localhost:8080/",
     "height": 530
    },
    "executionInfo": {
     "elapsed": 1616,
     "status": "ok",
     "timestamp": 1632570303231,
     "user": {
      "displayName": "Palak Gupta",
      "photoUrl": "https://lh3.googleusercontent.com/a-/AOh14GjJWMEdzqD2vqhU2H4cXo0GdM0gor5P7u8SVDN0tQ=s64",
      "userId": "17798964120895994502"
     },
     "user_tz": -330
    },
    "id": "f663d80c",
    "outputId": "d29ce0c7-acac-4d6f-d451-e0c3dbf37aa7"
   },
   "outputs": [],
   "source": [
    "#Plot Unigram\n",
    "unigram.sort_values().plot.barh(color='brown', width=.9, figsize=(12, 8))\n",
    "plt.title('30 Most Frequently Occuring Unigrams')\n",
    "plt.ylabel('Unigram')\n",
    "plt.xlabel('No. of Occurances')"
   ]
  },
  {
   "cell_type": "code",
   "execution_count": null,
   "id": "6cb3f60d",
   "metadata": {
    "colab": {
     "base_uri": "https://localhost:8080/",
     "height": 530
    },
    "executionInfo": {
     "elapsed": 39,
     "status": "ok",
     "timestamp": 1632570303232,
     "user": {
      "displayName": "Palak Gupta",
      "photoUrl": "https://lh3.googleusercontent.com/a-/AOh14GjJWMEdzqD2vqhU2H4cXo0GdM0gor5P7u8SVDN0tQ=s64",
      "userId": "17798964120895994502"
     },
     "user_tz": -330
    },
    "id": "6cb3f60d",
    "outputId": "e0ed0ff4-92fa-4523-8653-00e86b041fff"
   },
   "outputs": [],
   "source": [
    "#plot bigram\n",
    "bigram.sort_values().plot.barh(color='orange', width=.9, figsize=(12, 8))\n",
    "plt.title('20 Most Frequently Occuring Bigrams')\n",
    "plt.ylabel('Bigram')\n",
    "plt.xlabel('No. of Occurances')"
   ]
  },
  {
   "cell_type": "code",
   "execution_count": null,
   "id": "4d657d67",
   "metadata": {
    "colab": {
     "base_uri": "https://localhost:8080/",
     "height": 530
    },
    "executionInfo": {
     "elapsed": 1337,
     "status": "ok",
     "timestamp": 1632570304548,
     "user": {
      "displayName": "Palak Gupta",
      "photoUrl": "https://lh3.googleusercontent.com/a-/AOh14GjJWMEdzqD2vqhU2H4cXo0GdM0gor5P7u8SVDN0tQ=s64",
      "userId": "17798964120895994502"
     },
     "user_tz": -330
    },
    "id": "4d657d67",
    "outputId": "e38de74d-7228-4373-b140-3c261a351c0c"
   },
   "outputs": [],
   "source": [
    "#plot trigram \n",
    "trigram.sort_values().plot.barh(color='blue', width=.9, figsize=(12, 8))\n",
    "plt.title('20 Most Frequently Occuring Trigrams')\n",
    "plt.ylabel('Trigram')\n",
    "plt.xlabel('No. of Occurances')"
   ]
  },
  {
   "cell_type": "code",
   "execution_count": null,
   "id": "8b6aba96",
   "metadata": {
    "id": "8b6aba96"
   },
   "outputs": [],
   "source": [
    "dataset=df[['clean_tweet','sentiment']]\n",
    "label=dataset[['sentiment']]"
   ]
  },
  {
   "cell_type": "code",
   "execution_count": null,
   "id": "710650ed",
   "metadata": {
    "colab": {
     "base_uri": "https://localhost:8080/"
    },
    "executionInfo": {
     "elapsed": 72,
     "status": "ok",
     "timestamp": 1632570304552,
     "user": {
      "displayName": "Palak Gupta",
      "photoUrl": "https://lh3.googleusercontent.com/a-/AOh14GjJWMEdzqD2vqhU2H4cXo0GdM0gor5P7u8SVDN0tQ=s64",
      "userId": "17798964120895994502"
     },
     "user_tz": -330
    },
    "id": "710650ed",
    "outputId": "778ed834-90f7-442d-d758-141e32311a7a"
   },
   "outputs": [],
   "source": [
    "label.dtypes"
   ]
  },
  {
   "cell_type": "code",
   "execution_count": null,
   "id": "8de73d62",
   "metadata": {
    "id": "8de73d62"
   },
   "outputs": [],
   "source": [
    "text = dataset['clean_tweet'].values.tolist()"
   ]
  },
  {
   "cell_type": "code",
   "execution_count": null,
   "id": "7591309f",
   "metadata": {
    "colab": {
     "base_uri": "https://localhost:8080/",
     "height": 202
    },
    "executionInfo": {
     "elapsed": 71,
     "status": "ok",
     "timestamp": 1632570304556,
     "user": {
      "displayName": "Palak Gupta",
      "photoUrl": "https://lh3.googleusercontent.com/a-/AOh14GjJWMEdzqD2vqhU2H4cXo0GdM0gor5P7u8SVDN0tQ=s64",
      "userId": "17798964120895994502"
     },
     "user_tz": -330
    },
    "id": "7591309f",
    "outputId": "7c087bd0-d2f2-41e7-9d5b-37180dc01212"
   },
   "outputs": [],
   "source": [
    "dataset.reset_index(inplace=True, drop=True)\n",
    "dataset.head()"
   ]
  },
  {
   "cell_type": "code",
   "execution_count": null,
   "id": "a4a892fa",
   "metadata": {
    "id": "a4a892fa"
   },
   "outputs": [],
   "source": []
  },
  {
   "cell_type": "code",
   "execution_count": null,
   "id": "052152b5",
   "metadata": {
    "id": "052152b5"
   },
   "outputs": [],
   "source": [
    "#classifying Depressive and Non depressive labels\n",
    "label = []\n",
    "for i in range(len(dataset)):\n",
    "    lbls = dataset['sentiment'][i]\n",
    "    if lbls == 1:\n",
    "        lbl = 'positive'\n",
    "    elif lbls==0:\n",
    "        lbl = 'Neutral'\n",
    "    else :\n",
    "        lbl='negative'\n",
    "    \n",
    "    \n",
    "    label.append(lbl)"
   ]
  },
  {
   "cell_type": "code",
   "execution_count": null,
   "id": "3441f9e3",
   "metadata": {
    "colab": {
     "base_uri": "https://localhost:8080/",
     "height": 282
    },
    "executionInfo": {
     "elapsed": 72,
     "status": "ok",
     "timestamp": 1632570304559,
     "user": {
      "displayName": "Palak Gupta",
      "photoUrl": "https://lh3.googleusercontent.com/a-/AOh14GjJWMEdzqD2vqhU2H4cXo0GdM0gor5P7u8SVDN0tQ=s64",
      "userId": "17798964120895994502"
     },
     "user_tz": -330
    },
    "id": "3441f9e3",
    "outputId": "428e7432-d7d1-4163-962e-7746900f5a73"
   },
   "outputs": [],
   "source": [
    "import seaborn as sns\n",
    "sns.countplot(label)"
   ]
  },
  {
   "cell_type": "code",
   "execution_count": null,
   "id": "c7b4de01",
   "metadata": {
    "id": "c7b4de01"
   },
   "outputs": [],
   "source": [
    "# Main text\n",
    "text = np.array(text)"
   ]
  },
  {
   "cell_type": "code",
   "execution_count": null,
   "id": "32372cf3",
   "metadata": {
    "id": "32372cf3"
   },
   "outputs": [],
   "source": [
    "# Corresponding labels\n",
    "label=np.array(dataset['sentiment'])"
   ]
  },
  {
   "cell_type": "code",
   "execution_count": null,
   "id": "b213b2ee",
   "metadata": {
    "id": "b213b2ee"
   },
   "outputs": [],
   "source": [
    "from sklearn.preprocessing import LabelEncoder\n",
    "\n",
    "# Label Encoding\n",
    "label = LabelEncoder().fit_transform(label)"
   ]
  },
  {
   "cell_type": "code",
   "execution_count": null,
   "id": "ff9035e9",
   "metadata": {
    "colab": {
     "base_uri": "https://localhost:8080/"
    },
    "executionInfo": {
     "elapsed": 72,
     "status": "ok",
     "timestamp": 1632570304567,
     "user": {
      "displayName": "Palak Gupta",
      "photoUrl": "https://lh3.googleusercontent.com/a-/AOh14GjJWMEdzqD2vqhU2H4cXo0GdM0gor5P7u8SVDN0tQ=s64",
      "userId": "17798964120895994502"
     },
     "user_tz": -330
    },
    "id": "ff9035e9",
    "outputId": "91e2d36b-6843-4623-de08-26c77e7dad30"
   },
   "outputs": [],
   "source": [
    "set(label)"
   ]
  },
  {
   "cell_type": "code",
   "execution_count": null,
   "id": "a996f8de",
   "metadata": {
    "id": "a996f8de"
   },
   "outputs": [],
   "source": []
  },
  {
   "cell_type": "markdown",
   "id": "e8a0fca3",
   "metadata": {
    "id": "e8a0fca3"
   },
   "source": [
    "## Support Vector Machine"
   ]
  },
  {
   "cell_type": "markdown",
   "id": "c703a258",
   "metadata": {
    "id": "c703a258"
   },
   "source": [
    "Ngrams(1,2)-features = All"
   ]
  },
  {
   "cell_type": "code",
   "execution_count": null,
   "id": "140e25db",
   "metadata": {
    "id": "140e25db"
   },
   "outputs": [],
   "source": [
    "from sklearn.model_selection import train_test_split\n",
    "\n",
    "# Splitting into training and testing\n",
    "X_train, X_test, y_train, y_test = train_test_split(text,label,stratify=label, random_state=32)"
   ]
  },
  {
   "cell_type": "code",
   "execution_count": null,
   "id": "zaK7yohRxb59",
   "metadata": {
    "colab": {
     "base_uri": "https://localhost:8080/"
    },
    "executionInfo": {
     "elapsed": 6,
     "status": "ok",
     "timestamp": 1632570314404,
     "user": {
      "displayName": "Palak Gupta",
      "photoUrl": "https://lh3.googleusercontent.com/a-/AOh14GjJWMEdzqD2vqhU2H4cXo0GdM0gor5P7u8SVDN0tQ=s64",
      "userId": "17798964120895994502"
     },
     "user_tz": -330
    },
    "id": "zaK7yohRxb59",
    "outputId": "e631b612-c676-4557-d483-8c7a6594b00b"
   },
   "outputs": [],
   "source": [
    "X_train.shape, X_test.shape"
   ]
  },
  {
   "cell_type": "code",
   "execution_count": null,
   "id": "3bd9710d",
   "metadata": {
    "id": "3bd9710d"
   },
   "outputs": [],
   "source": [
    "# Applying Count Vectorizer\n",
    "bow_vectorizer = CountVectorizer(max_df=0.90, min_df=2, stop_words='english', ngram_range=(1,2))\n",
    "\n",
    "X_train = bow_vectorizer.fit_transform(X_train)\n",
    "X_test = bow_vectorizer.transform(X_test)"
   ]
  },
  {
   "cell_type": "code",
   "execution_count": null,
   "id": "b2556e2b",
   "metadata": {
    "colab": {
     "base_uri": "https://localhost:8080/"
    },
    "executionInfo": {
     "elapsed": 40436,
     "status": "ok",
     "timestamp": 1632539853573,
     "user": {
      "displayName": "Anmol Varshney",
      "photoUrl": "https://lh3.googleusercontent.com/a-/AOh14GhLN7y1dWXp68QLvuqkPW-a1m-zwia73dILsW-DGw=s64",
      "userId": "09973869633986508713"
     },
     "user_tz": -330
    },
    "id": "b2556e2b",
    "outputId": "f53ae735-880b-4e12-e99e-7ced585c0081"
   },
   "outputs": [],
   "source": [
    "# SVM Classifier\n",
    "svm_clf = svm.SVC(kernel='linear')\n",
    "\n",
    "# Fitting the model\n",
    "svm_clf.fit(X_train, y_train)\n",
    "\n",
    "# Prediction\n",
    "prediction=svm_clf.predict(X_test)\n",
    "\n",
    "# Accuracy\n",
    "acc = accuracy_score(y_test, prediction)\n",
    "sensitivity = sensitivity_score(y_test, prediction, average='macro')\n",
    "specificity = specificity_score(y_test, prediction, average='macro')\n",
    "print('Accuracy score: ', acc)\n",
    "print('Sensitivity score: ', sensitivity)\n",
    "print('Specificity score: ', specificity)"
   ]
  },
  {
   "cell_type": "code",
   "execution_count": null,
   "id": "AZGLPiJbe5nx",
   "metadata": {
    "colab": {
     "base_uri": "https://localhost:8080/",
     "height": 296
    },
    "executionInfo": {
     "elapsed": 6943,
     "status": "ok",
     "timestamp": 1632539860510,
     "user": {
      "displayName": "Anmol Varshney",
      "photoUrl": "https://lh3.googleusercontent.com/a-/AOh14GhLN7y1dWXp68QLvuqkPW-a1m-zwia73dILsW-DGw=s64",
      "userId": "09973869633986508713"
     },
     "user_tz": -330
    },
    "id": "AZGLPiJbe5nx",
    "outputId": "c26d8432-d188-4b28-d00d-3b15cb2b94c8"
   },
   "outputs": [],
   "source": [
    "# Confusion Matrics\n",
    "metrics.plot_confusion_matrix(svm_clf, X_test, y_test)"
   ]
  },
  {
   "cell_type": "code",
   "execution_count": null,
   "id": "ea5dc58b",
   "metadata": {
    "colab": {
     "base_uri": "https://localhost:8080/"
    },
    "executionInfo": {
     "elapsed": 15,
     "status": "ok",
     "timestamp": 1632539860511,
     "user": {
      "displayName": "Anmol Varshney",
      "photoUrl": "https://lh3.googleusercontent.com/a-/AOh14GhLN7y1dWXp68QLvuqkPW-a1m-zwia73dILsW-DGw=s64",
      "userId": "09973869633986508713"
     },
     "user_tz": -330
    },
    "id": "ea5dc58b",
    "outputId": "a6deec7b-cb3c-41d2-b48a-eab8369a6a54"
   },
   "outputs": [],
   "source": [
    "# Confusion Matrix\n",
    "print(confusion_matrix(y_test, prediction))"
   ]
  },
  {
   "cell_type": "code",
   "execution_count": null,
   "id": "e64d91d8",
   "metadata": {
    "colab": {
     "base_uri": "https://localhost:8080/"
    },
    "executionInfo": {
     "elapsed": 10,
     "status": "ok",
     "timestamp": 1632539860511,
     "user": {
      "displayName": "Anmol Varshney",
      "photoUrl": "https://lh3.googleusercontent.com/a-/AOh14GhLN7y1dWXp68QLvuqkPW-a1m-zwia73dILsW-DGw=s64",
      "userId": "09973869633986508713"
     },
     "user_tz": -330
    },
    "id": "e64d91d8",
    "outputId": "0d9f42ca-e688-4619-f3a0-2be619c1ba90"
   },
   "outputs": [],
   "source": [
    "# Classification Report\n",
    "print(classification_report(y_test, prediction))"
   ]
  },
  {
   "cell_type": "markdown",
   "id": "75d60888",
   "metadata": {
    "id": "75d60888"
   },
   "source": [
    "Ngrams(1,2)-features = 2000"
   ]
  },
  {
   "cell_type": "code",
   "execution_count": null,
   "id": "aebdbc2f",
   "metadata": {
    "colab": {
     "base_uri": "https://localhost:8080/"
    },
    "executionInfo": {
     "elapsed": 43459,
     "status": "ok",
     "timestamp": 1632539903962,
     "user": {
      "displayName": "Anmol Varshney",
      "photoUrl": "https://lh3.googleusercontent.com/a-/AOh14GhLN7y1dWXp68QLvuqkPW-a1m-zwia73dILsW-DGw=s64",
      "userId": "09973869633986508713"
     },
     "user_tz": -330
    },
    "id": "aebdbc2f",
    "outputId": "6ff6e7dc-61d3-43d1-b105-df0f4e493fd5"
   },
   "outputs": [],
   "source": [
    "#splitting into training and testing\n",
    "\n",
    "from sklearn.model_selection import train_test_split\n",
    "X_train, X_test, y_train, y_test = train_test_split(text,label,stratify=label, random_state=16)\n",
    "\n",
    "# Applying Count Vectorizer\n",
    "bow_vectorizer = CountVectorizer(max_df=0.90, min_df=2, max_features=2000, stop_words='english', ngram_range=(1,2))\n",
    "\n",
    "X_train = bow_vectorizer.fit_transform(X_train)\n",
    "X_test = bow_vectorizer.transform(X_test)\n",
    "\n",
    "# SVM Classifier\n",
    "svm_clf = svm.SVC(kernel='linear')\n",
    "\n",
    "# Fitting the model\n",
    "svm_clf.fit(X_train, y_train)\n",
    "\n",
    "# Prediction\n",
    "prediction=svm_clf.predict(X_test)\n",
    "\n",
    "# Accuracy\n",
    "acc = accuracy_score(y_test, prediction)\n",
    "sensitivity = sensitivity_score(y_test, prediction, average='macro')\n",
    "specificity = specificity_score(y_test, prediction, average='macro')\n",
    "print('Accuracy score: ', acc)\n",
    "print('Sensitivity score: ', sensitivity)\n",
    "print('Specificity score: ', specificity)"
   ]
  },
  {
   "cell_type": "code",
   "execution_count": null,
   "id": "QoXGWuFGfeXi",
   "metadata": {
    "colab": {
     "base_uri": "https://localhost:8080/",
     "height": 299
    },
    "executionInfo": {
     "elapsed": 4592,
     "status": "ok",
     "timestamp": 1632539908549,
     "user": {
      "displayName": "Anmol Varshney",
      "photoUrl": "https://lh3.googleusercontent.com/a-/AOh14GhLN7y1dWXp68QLvuqkPW-a1m-zwia73dILsW-DGw=s64",
      "userId": "09973869633986508713"
     },
     "user_tz": -330
    },
    "id": "QoXGWuFGfeXi",
    "outputId": "759492dc-c8fc-4b6e-a075-407eea3dec50"
   },
   "outputs": [],
   "source": [
    "# Confusion Matrics\n",
    "metrics.plot_confusion_matrix(svm_clf, X_test, y_test)"
   ]
  },
  {
   "cell_type": "code",
   "execution_count": null,
   "id": "0339677c",
   "metadata": {
    "colab": {
     "base_uri": "https://localhost:8080/"
    },
    "executionInfo": {
     "elapsed": 13,
     "status": "ok",
     "timestamp": 1632539908549,
     "user": {
      "displayName": "Anmol Varshney",
      "photoUrl": "https://lh3.googleusercontent.com/a-/AOh14GhLN7y1dWXp68QLvuqkPW-a1m-zwia73dILsW-DGw=s64",
      "userId": "09973869633986508713"
     },
     "user_tz": -330
    },
    "id": "0339677c",
    "outputId": "01c55702-81c2-408e-8bd5-6bae8546995c"
   },
   "outputs": [],
   "source": [
    "# Confusion Matrix\n",
    "print(confusion_matrix(y_test, prediction))"
   ]
  },
  {
   "cell_type": "code",
   "execution_count": null,
   "id": "7f59fab7",
   "metadata": {
    "colab": {
     "base_uri": "https://localhost:8080/"
    },
    "executionInfo": {
     "elapsed": 10,
     "status": "ok",
     "timestamp": 1632539908549,
     "user": {
      "displayName": "Anmol Varshney",
      "photoUrl": "https://lh3.googleusercontent.com/a-/AOh14GhLN7y1dWXp68QLvuqkPW-a1m-zwia73dILsW-DGw=s64",
      "userId": "09973869633986508713"
     },
     "user_tz": -330
    },
    "id": "7f59fab7",
    "outputId": "e92a1c92-e32b-455f-96ce-e5c79633fb5b"
   },
   "outputs": [],
   "source": [
    "# Classification Report\n",
    "print(classification_report(y_test, prediction))"
   ]
  },
  {
   "cell_type": "markdown",
   "id": "7ee6b93d",
   "metadata": {
    "id": "7ee6b93d"
   },
   "source": [
    "## Random Forest"
   ]
  },
  {
   "cell_type": "markdown",
   "id": "5f1cf393",
   "metadata": {
    "id": "5f1cf393"
   },
   "source": [
    "Ngrams(1,1)-features = All"
   ]
  },
  {
   "cell_type": "code",
   "execution_count": null,
   "id": "422bbfcd",
   "metadata": {
    "colab": {
     "base_uri": "https://localhost:8080/"
    },
    "executionInfo": {
     "elapsed": 17950,
     "status": "ok",
     "timestamp": 1632539926492,
     "user": {
      "displayName": "Anmol Varshney",
      "photoUrl": "https://lh3.googleusercontent.com/a-/AOh14GhLN7y1dWXp68QLvuqkPW-a1m-zwia73dILsW-DGw=s64",
      "userId": "09973869633986508713"
     },
     "user_tz": -330
    },
    "id": "422bbfcd",
    "outputId": "d0b22f14-598d-4ac1-effe-4b40273984e4"
   },
   "outputs": [],
   "source": [
    "# Splitting data into training and testing\n",
    "X_train, X_test, y_train, y_test = train_test_split(text,label,stratify=label, random_state=2)\n",
    "\n",
    "# feature extraction\n",
    "bow_vectorizer = CountVectorizer(max_df=0.90, min_df=2, stop_words='english', ngram_range=(1,1))\n",
    "\n",
    "X_train = bow_vectorizer.fit_transform(X_train)\n",
    "X_test = bow_vectorizer.transform(X_test)\n",
    "\n",
    "# Random Forest classifier\n",
    "rf_clf = RandomForestClassifier()\n",
    "\n",
    "# Fitting the model\n",
    "rf_clf.fit(X_train, y_train)\n",
    "\n",
    "# Prediction\n",
    "prediction=rf_clf.predict(X_test)\n",
    "\n",
    "# Accuracy\n",
    "acc = accuracy_score(y_test, prediction)\n",
    "sensitivity = sensitivity_score(y_test, prediction, average='macro')\n",
    "specificity = specificity_score(y_test, prediction, average='macro')\n",
    "print('Accuracy score: ', acc)\n",
    "print('Sensitivity score: ', sensitivity)\n",
    "print('Specificity score: ', specificity)"
   ]
  },
  {
   "cell_type": "code",
   "execution_count": null,
   "id": "G-yyooxzfhTi",
   "metadata": {
    "colab": {
     "base_uri": "https://localhost:8080/",
     "height": 296
    },
    "executionInfo": {
     "elapsed": 928,
     "status": "ok",
     "timestamp": 1632539927409,
     "user": {
      "displayName": "Anmol Varshney",
      "photoUrl": "https://lh3.googleusercontent.com/a-/AOh14GhLN7y1dWXp68QLvuqkPW-a1m-zwia73dILsW-DGw=s64",
      "userId": "09973869633986508713"
     },
     "user_tz": -330
    },
    "id": "G-yyooxzfhTi",
    "outputId": "87b582be-f810-4129-9d91-d13254573f9c"
   },
   "outputs": [],
   "source": [
    "# Confusion Matrics\n",
    "metrics.plot_confusion_matrix(rf_clf, X_test, y_test)"
   ]
  },
  {
   "cell_type": "code",
   "execution_count": null,
   "id": "09c29b58",
   "metadata": {
    "colab": {
     "base_uri": "https://localhost:8080/"
    },
    "executionInfo": {
     "elapsed": 10,
     "status": "ok",
     "timestamp": 1632539927410,
     "user": {
      "displayName": "Anmol Varshney",
      "photoUrl": "https://lh3.googleusercontent.com/a-/AOh14GhLN7y1dWXp68QLvuqkPW-a1m-zwia73dILsW-DGw=s64",
      "userId": "09973869633986508713"
     },
     "user_tz": -330
    },
    "id": "09c29b58",
    "outputId": "a6db1907-f6d3-4f14-df38-4ed40a16fa5c"
   },
   "outputs": [],
   "source": [
    "# Confusion Matrix\n",
    "print(confusion_matrix(y_test, prediction))"
   ]
  },
  {
   "cell_type": "code",
   "execution_count": null,
   "id": "88a040f7",
   "metadata": {
    "colab": {
     "base_uri": "https://localhost:8080/"
    },
    "executionInfo": {
     "elapsed": 5,
     "status": "ok",
     "timestamp": 1632539927410,
     "user": {
      "displayName": "Anmol Varshney",
      "photoUrl": "https://lh3.googleusercontent.com/a-/AOh14GhLN7y1dWXp68QLvuqkPW-a1m-zwia73dILsW-DGw=s64",
      "userId": "09973869633986508713"
     },
     "user_tz": -330
    },
    "id": "88a040f7",
    "outputId": "b36b2256-95ae-488b-cf33-e036aac63ffe"
   },
   "outputs": [],
   "source": [
    "# Classification Report\n",
    "print(classification_report(y_test, prediction))"
   ]
  },
  {
   "cell_type": "markdown",
   "id": "daba1bfc",
   "metadata": {
    "id": "daba1bfc"
   },
   "source": [
    "Ngrams(1,2)-features = 2000"
   ]
  },
  {
   "cell_type": "code",
   "execution_count": null,
   "id": "92f19328",
   "metadata": {
    "colab": {
     "base_uri": "https://localhost:8080/"
    },
    "executionInfo": {
     "elapsed": 16991,
     "status": "ok",
     "timestamp": 1632539944398,
     "user": {
      "displayName": "Anmol Varshney",
      "photoUrl": "https://lh3.googleusercontent.com/a-/AOh14GhLN7y1dWXp68QLvuqkPW-a1m-zwia73dILsW-DGw=s64",
      "userId": "09973869633986508713"
     },
     "user_tz": -330
    },
    "id": "92f19328",
    "outputId": "b853f714-f563-43d7-a755-2d6c2733a7fa"
   },
   "outputs": [],
   "source": [
    "# Splitting data into training and testing\n",
    "X_train, X_test, y_train, y_test = train_test_split(text,label,stratify=label, random_state=3)\n",
    "\n",
    "# feature extraction\n",
    "bow_vectorizer = CountVectorizer(max_df=0.90, min_df=2, max_features=2000, stop_words='english', ngram_range=(1,2))\n",
    "\n",
    "X_train = bow_vectorizer.fit_transform(X_train)\n",
    "X_test = bow_vectorizer.transform(X_test)\n",
    "\n",
    "# Random Forest classifier\n",
    "rf_clf = RandomForestClassifier()\n",
    "\n",
    "# Fitting the model\n",
    "rf_clf.fit(X_train, y_train)\n",
    "\n",
    "# Prediction\n",
    "prediction=rf_clf.predict(X_test)\n",
    "\n",
    "# Accuracy\n",
    "acc = accuracy_score(y_test, prediction)\n",
    "sensitivity = sensitivity_score(y_test, prediction, average='macro')\n",
    "specificity = specificity_score(y_test, prediction, average='macro')\n",
    "print('Accuracy score: ', acc)\n",
    "print('Sensitivity score: ', sensitivity)\n",
    "print('Specificity score: ', specificity)"
   ]
  },
  {
   "cell_type": "code",
   "execution_count": null,
   "id": "pEj8DCoYfnn2",
   "metadata": {
    "colab": {
     "base_uri": "https://localhost:8080/",
     "height": 296
    },
    "executionInfo": {
     "elapsed": 888,
     "status": "ok",
     "timestamp": 1632539945278,
     "user": {
      "displayName": "Anmol Varshney",
      "photoUrl": "https://lh3.googleusercontent.com/a-/AOh14GhLN7y1dWXp68QLvuqkPW-a1m-zwia73dILsW-DGw=s64",
      "userId": "09973869633986508713"
     },
     "user_tz": -330
    },
    "id": "pEj8DCoYfnn2",
    "outputId": "2ed9c873-f60f-4d4d-9312-8682b2493b57"
   },
   "outputs": [],
   "source": [
    "# Confusion Matrics\n",
    "metrics.plot_confusion_matrix(rf_clf, X_test, y_test)"
   ]
  },
  {
   "cell_type": "code",
   "execution_count": null,
   "id": "84f6d620",
   "metadata": {
    "colab": {
     "base_uri": "https://localhost:8080/"
    },
    "executionInfo": {
     "elapsed": 11,
     "status": "ok",
     "timestamp": 1632539945278,
     "user": {
      "displayName": "Anmol Varshney",
      "photoUrl": "https://lh3.googleusercontent.com/a-/AOh14GhLN7y1dWXp68QLvuqkPW-a1m-zwia73dILsW-DGw=s64",
      "userId": "09973869633986508713"
     },
     "user_tz": -330
    },
    "id": "84f6d620",
    "outputId": "67d7339a-f39b-4060-a314-cffc79b2772f"
   },
   "outputs": [],
   "source": [
    "# Confusion Matrix\n",
    "print(confusion_matrix(y_test, prediction))"
   ]
  },
  {
   "cell_type": "code",
   "execution_count": null,
   "id": "5389731d",
   "metadata": {
    "colab": {
     "base_uri": "https://localhost:8080/"
    },
    "executionInfo": {
     "elapsed": 7,
     "status": "ok",
     "timestamp": 1632539945278,
     "user": {
      "displayName": "Anmol Varshney",
      "photoUrl": "https://lh3.googleusercontent.com/a-/AOh14GhLN7y1dWXp68QLvuqkPW-a1m-zwia73dILsW-DGw=s64",
      "userId": "09973869633986508713"
     },
     "user_tz": -330
    },
    "id": "5389731d",
    "outputId": "debb6895-3996-4ce7-8874-8c1e1a73abef"
   },
   "outputs": [],
   "source": [
    "# Classification Report\n",
    "print(classification_report(y_test, prediction))"
   ]
  },
  {
   "cell_type": "markdown",
   "id": "e0c97088",
   "metadata": {
    "id": "e0c97088"
   },
   "source": [
    "# ##Bert"
   ]
  },
  {
   "cell_type": "code",
   "execution_count": null,
   "id": "dc9834a4",
   "metadata": {
    "id": "dc9834a4"
   },
   "outputs": [],
   "source": [
    "import os\n",
    "# Bert Requirement\n",
    "%reload_ext autoreload\n",
    "%autoreload 2\n",
    "%matplotlib inline\n",
    "\n",
    "os.environ[\"CUDA_DEVICE_ORDER\"] = \"PCI_BUS_ID\";\n",
    "os.environ[\"CUDA_VISIBLE_DEVICES\"] = \"0\";"
   ]
  },
  {
   "cell_type": "code",
   "execution_count": null,
   "id": "686b872f",
   "metadata": {
    "id": "686b872f"
   },
   "outputs": [],
   "source": [
    "# Splitting Function\n",
    "def split_data(review_text, review_label):\n",
    "  train_ratio = 0.80\n",
    "  test_ratio = 0.20\n",
    "  X_train, X_test, y_train, y_test = train_test_split(review_text, review_label, test_size=test_ratio, stratify=review_label, random_state=100)\n",
    "  return X_train, X_test, y_train, y_test\n",
    "\n",
    "# Bert Implementation\n",
    "def DistilBert(X,y):\n",
    "\n",
    "  X_train, X_test, y_train, y_test = split_data(X, y)\n",
    "  model_used = 'distilbert-base-uncased'\n",
    "  from ktrain import text\n",
    "  transformer = text.Transformer(model_name=model_used, maxlen=512, class_names=['Positive', 'Negative', 'Neutral'])\n",
    "\n",
    "  train_data = transformer.preprocess_train(X_train, y_train)\n",
    "  test_data = transformer.preprocess_test(X_test, y_test)\n",
    "\n",
    "  model = transformer.get_classifier()\n",
    "\n",
    "  learner = ktrain.get_learner(model, train_data=train_data, val_data = test_data, batch_size=16)\n",
    "  return learner"
   ]
  },
  {
   "cell_type": "code",
   "execution_count": null,
   "id": "3bed4049",
   "metadata": {
    "colab": {
     "base_uri": "https://localhost:8080/"
    },
    "executionInfo": {
     "elapsed": 4,
     "status": "ok",
     "timestamp": 1632543366431,
     "user": {
      "displayName": "Anmol Varshney",
      "photoUrl": "https://lh3.googleusercontent.com/a-/AOh14GhLN7y1dWXp68QLvuqkPW-a1m-zwia73dILsW-DGw=s64",
      "userId": "09973869633986508713"
     },
     "user_tz": -330
    },
    "id": "3bed4049",
    "outputId": "7a098afd-0e0d-491c-f1e1-310efb271ea9"
   },
   "outputs": [],
   "source": [
    "# Equating\n",
    "positive_tweet_list == negative_tweet_list == neutral_tweet_list"
   ]
  },
  {
   "cell_type": "code",
   "execution_count": null,
   "id": "687f9bb0",
   "metadata": {
    "id": "687f9bb0"
   },
   "outputs": [],
   "source": [
    "# Seperating the sentiments\n",
    "sentiment_neg = list(np.ones(len(negative_tweet_list),dtype=int)*2)\n",
    "sentiment_pos = list(np.ones(len(positive_tweet_list),dtype=int))\n",
    "sentiment_neu = list(np.ones(len(neutral_tweet_list),dtype=int)*0)"
   ]
  },
  {
   "cell_type": "code",
   "execution_count": null,
   "id": "126c3774",
   "metadata": {
    "id": "126c3774"
   },
   "outputs": [],
   "source": [
    "# Data in desirable format\n",
    "df_text = positive_tweet_list+negative_tweet_list+neutral_tweet_list\n",
    "df_labels = sentiment_pos+sentiment_neg+sentiment_neu"
   ]
  },
  {
   "cell_type": "code",
   "execution_count": null,
   "id": "b123b742",
   "metadata": {
    "colab": {
     "base_uri": "https://localhost:8080/",
     "height": 235
    },
    "executionInfo": {
     "elapsed": 16257,
     "status": "ok",
     "timestamp": 1632543385270,
     "user": {
      "displayName": "Anmol Varshney",
      "photoUrl": "https://lh3.googleusercontent.com/a-/AOh14GhLN7y1dWXp68QLvuqkPW-a1m-zwia73dILsW-DGw=s64",
      "userId": "09973869633986508713"
     },
     "user_tz": -330
    },
    "id": "b123b742",
    "outputId": "6fa6e693-2f1f-4baa-b2fb-669fcca9da88"
   },
   "outputs": [],
   "source": [
    "# !pip install tensorflow\n",
    "# Implementing bert\n",
    "from sklearn.ensemble import RandomForestClassifier\n",
    "from sklearn import metrics\n",
    "from sklearn import svm\n",
    "from sklearn.feature_extraction.text import CountVectorizer\n",
    "from sklearn.metrics import accuracy_score, classification_report, confusion_matrix\n",
    "from sklearn.model_selection import train_test_split\n",
    "from sklearn.preprocessing import LabelEncoder\n",
    "learner = DistilBert(df_text, df_labels)"
   ]
  },
  {
   "cell_type": "code",
   "execution_count": null,
   "id": "8ac8c559",
   "metadata": {
    "colab": {
     "base_uri": "https://localhost:8080/"
    },
    "executionInfo": {
     "elapsed": 2251668,
     "status": "ok",
     "timestamp": 1632545636931,
     "user": {
      "displayName": "Anmol Varshney",
      "photoUrl": "https://lh3.googleusercontent.com/a-/AOh14GhLN7y1dWXp68QLvuqkPW-a1m-zwia73dILsW-DGw=s64",
      "userId": "09973869633986508713"
     },
     "user_tz": -330
    },
    "id": "8ac8c559",
    "outputId": "20d6ca1b-5961-4672-d79b-7c81d6d0efc4",
    "scrolled": true
   },
   "outputs": [],
   "source": [
    "# Fitting the model\n",
    "history = learner.fit(1e-4,1)"
   ]
  },
  {
   "cell_type": "code",
   "execution_count": null,
   "id": "d155f45a",
   "metadata": {
    "colab": {
     "base_uri": "https://localhost:8080/"
    },
    "executionInfo": {
     "elapsed": 523,
     "status": "ok",
     "timestamp": 1632542245349,
     "user": {
      "displayName": "Anmol Varshney",
      "photoUrl": "https://lh3.googleusercontent.com/a-/AOh14GhLN7y1dWXp68QLvuqkPW-a1m-zwia73dILsW-DGw=s64",
      "userId": "09973869633986508713"
     },
     "user_tz": -330
    },
    "id": "d155f45a",
    "outputId": "d23a5e8e-db89-4fe2-89a2-b7674fa2af23"
   },
   "outputs": [],
   "source": [
    "np.mean(history.history['accuracy'])"
   ]
  },
  {
   "cell_type": "code",
   "execution_count": null,
   "id": "0bc592a0",
   "metadata": {
    "id": "0bc592a0"
   },
   "outputs": [],
   "source": []
  }
 ],
 "metadata": {
  "accelerator": "GPU",
  "colab": {
   "collapsed_sections": [],
   "name": "Karthik_base_code(latest).ipynb",
   "provenance": []
  },
  "kernelspec": {
   "display_name": "Python 3 (ipykernel)",
   "language": "python",
   "name": "python3"
  },
  "language_info": {
   "codemirror_mode": {
    "name": "ipython",
    "version": 3
   },
   "file_extension": ".py",
   "mimetype": "text/x-python",
   "name": "python",
   "nbconvert_exporter": "python",
   "pygments_lexer": "ipython3",
   "version": "3.7.11"
  }
 },
 "nbformat": 4,
 "nbformat_minor": 5
}
